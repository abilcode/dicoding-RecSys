{
 "cells": [
  {
   "cell_type": "code",
   "execution_count": 16,
   "id": "initial_id",
   "metadata": {
    "collapsed": true,
    "ExecuteTime": {
     "end_time": "2023-10-29T14:17:20.645661293Z",
     "start_time": "2023-10-29T14:17:20.573360889Z"
    }
   },
   "outputs": [],
   "source": [
    "from collections import defaultdict\n",
    "import pandas as pd\n",
    "\n",
    "from surprise.model_selection import KFold, cross_validate\n",
    "\n",
    "from surprise import KNNBasic\n",
    "\n",
    "from surprise import SVD\n",
    "from surprise import SVDpp\n",
    "from surprise import  NMF\n",
    "from surprise import NormalPredictor, BaselineOnly\n",
    "from surprise import SlopeOne\n",
    "from surprise import CoClustering\n",
    "from surprise import KNNBasic\n",
    "from surprise import KNNWithMeans\n",
    "from surprise import KNNWithZScore\n",
    "from surprise import KNNBaseline\n",
    "from surprise.accuracy import rmse\n",
    "from surprise import accuracy\n",
    "from surprise.model_selection import train_test_split\n",
    "from surprise.model_selection import GridSearchCV\n",
    "\n",
    "\n",
    "from model.data_interface.data import *"
   ]
  },
  {
   "cell_type": "code",
   "execution_count": 17,
   "outputs": [
    {
     "name": "stdout",
     "output_type": "stream",
     "text": [
      "Index(['user_id', 'course_id', 'graduated_at', 'rating'], dtype='object')\n",
      "   user_id  course_id        graduated_at  rating\n",
      "0   623699         14 2020-03-10 11:45:50       5\n",
      "1   406371         14 2020-03-10 08:44:09       4\n",
      "2     1946         14 2020-03-11 13:24:10       5\n",
      "3   186713         14 2020-03-11 17:36:04       4\n",
      "4   462580         14 2020-03-11 08:43:36       4\n"
     ]
    }
   ],
   "source": [
    "data = load_data(data_path=\"../data/dicoding_user_item_rating.gzip\")\n",
    "print(data.head())\n",
    "\n",
    "data_input = data.loc[:, [\"user_id\", \"course_id\", \"rating\"]]\n",
    "surprise_input = reader_data(data=data_input,\n",
    "                             cols=[\"user_id\", \"course_id\", \"rating\"],\n",
    "                             scale=True,\n",
    "                             model=\"surprise\")"
   ],
   "metadata": {
    "collapsed": false,
    "ExecuteTime": {
     "end_time": "2023-10-29T14:17:20.798832807Z",
     "start_time": "2023-10-29T14:17:20.633930940Z"
    }
   },
   "id": "66d45e400481341c"
  },
  {
   "cell_type": "code",
   "execution_count": 18,
   "outputs": [],
   "source": [
    "def get_top_n(predictions, n=10):\n",
    "    \"\"\"Return the top-N recommendation for each user from a set of predictions.\n",
    "\n",
    "    Args:\n",
    "        predictions(list of Prediction objects): The list of predictions, as\n",
    "            returned by the test method of an algorithm.\n",
    "        n(int): The number of recommendation to output for each user. Default\n",
    "            is 10.\n",
    "\n",
    "    Returns:\n",
    "    A dict where keys are user (raw) ids and values are lists of tuples:\n",
    "        [(raw item id, rating estimation), ...] of size n.\n",
    "    \"\"\"\n",
    "\n",
    "    # First map the predictions to each user.\n",
    "    top_n = defaultdict(list)\n",
    "    for uid, iid, true_r, est, _ in predictions:\n",
    "        top_n[uid].append((iid, est))\n",
    "\n",
    "    # Then sort the predictions for each user and retrieve the k highest ones.\n",
    "    for uid, user_ratings in top_n.items():\n",
    "        user_ratings.sort(key=lambda x: x[1], reverse=True)\n",
    "        top_n[uid] = user_ratings[:n]\n",
    "\n",
    "    return top_n"
   ],
   "metadata": {
    "collapsed": false,
    "ExecuteTime": {
     "end_time": "2023-10-29T14:17:20.850124243Z",
     "start_time": "2023-10-29T14:17:20.802128065Z"
    }
   },
   "id": "899391c4e12fbba1"
  },
  {
   "cell_type": "code",
   "execution_count": 19,
   "outputs": [],
   "source": [
    "def precision_recall_at_k(predictions, k=10, threshold=4.5):\n",
    "    \"\"\"Return precision and recall at k metrics for each user\"\"\"\n",
    "\n",
    "    # First map the predictions to each user.\n",
    "    user_est_true = defaultdict(list)\n",
    "    for uid, _, true_r, est, _ in predictions:\n",
    "        user_est_true[uid].append((est, true_r))\n",
    "\n",
    "    precisions = dict()\n",
    "    recalls = dict()\n",
    "    for uid, user_ratings in user_est_true.items():\n",
    "\n",
    "        # Sort user ratings by estimated value\n",
    "        user_ratings.sort(key=lambda x: x[0], reverse=True)\n",
    "\n",
    "        # Number of relevant items\n",
    "        n_rel = sum((true_r >= threshold) for (_, true_r) in user_ratings)\n",
    "\n",
    "        # Number of recommended items in top k\n",
    "        n_rec_k = sum((est >= threshold) for (est, _) in user_ratings[:k])\n",
    "\n",
    "        # Number of relevant and recommended items in top k\n",
    "        n_rel_and_rec_k = sum(\n",
    "            ((true_r >= threshold) and (est >= threshold))\n",
    "            for (est, true_r) in user_ratings[:k]\n",
    "        )\n",
    "\n",
    "        # Precision@K: Proportion of recommended items that are relevant\n",
    "        # When n_rec_k is 0, Precision is undefined. We here set it to 0.\n",
    "\n",
    "        precisions[uid] = n_rel_and_rec_k / n_rec_k if n_rec_k != 0 else 0\n",
    "\n",
    "        # Recall@K: Proportion of relevant items that are recommended\n",
    "        # When n_rel is 0, Recall is undefined. We here set it to 0.\n",
    "\n",
    "        recalls[uid] = n_rel_and_rec_k / n_rel if n_rel != 0 else 0\n",
    "\n",
    "    return precisions, recalls"
   ],
   "metadata": {
    "collapsed": false,
    "ExecuteTime": {
     "end_time": "2023-10-29T14:17:20.850464080Z",
     "start_time": "2023-10-29T14:17:20.849945127Z"
    }
   },
   "id": "8bd7b14e309f1f35"
  },
  {
   "cell_type": "code",
   "execution_count": 20,
   "outputs": [],
   "source": [
    "trainset = surprise_input.build_full_trainset()\n",
    "\n",
    "testset  = trainset.build_anti_testset()"
   ],
   "metadata": {
    "collapsed": false,
    "ExecuteTime": {
     "end_time": "2023-10-29T14:17:23.921195215Z",
     "start_time": "2023-10-29T14:17:20.850308905Z"
    }
   },
   "id": "df9dc40f54ee8db0"
  },
  {
   "cell_type": "code",
   "execution_count": 21,
   "outputs": [],
   "source": [
    "algo = SVD()\n",
    "algo.fit(trainset)\n",
    "\n",
    "# Than predict ratings for all pairs (u, i) that are NOT in the training set.\n",
    "\n",
    "predictions = algo.test(testset)\n",
    "\n",
    "top_n = get_top_n(predictions, n=10)"
   ],
   "metadata": {
    "collapsed": false,
    "ExecuteTime": {
     "end_time": "2023-10-29T14:17:59.062735733Z",
     "start_time": "2023-10-29T14:17:23.961805120Z"
    }
   },
   "id": "b86484fff28472c3"
  },
  {
   "cell_type": "code",
   "execution_count": 22,
   "outputs": [
    {
     "name": "stdout",
     "output_type": "stream",
     "text": [
      "2447675 [276, 418, 510, 615, 332, 153, 133, 605, 413, 271]\n"
     ]
    }
   ],
   "source": [
    "# Print the recommended items for each user\n",
    "for uid, user_ratings in top_n.items():\n",
    "    if uid == int(\"2447675\"):\n",
    "        print(uid, [iid for (iid, _) in user_ratings])"
   ],
   "metadata": {
    "collapsed": false,
    "ExecuteTime": {
     "end_time": "2023-10-29T14:17:59.106587351Z",
     "start_time": "2023-10-29T14:17:59.105955699Z"
    }
   },
   "id": "e770bbdc7f785f27"
  },
  {
   "cell_type": "code",
   "execution_count": 23,
   "outputs": [
    {
     "name": "stdout",
     "output_type": "stream",
     "text": [
      "0.8751018989162754\n",
      "0.8925061832501652\n",
      "0.8734352850724397\n",
      "0.8906646013034617\n",
      "0.8767182857004815\n",
      "0.893536768543412\n",
      "0.8756636103289778\n",
      "0.8935293980146338\n",
      "0.8724251880300857\n",
      "0.8902369998247339\n"
     ]
    }
   ],
   "source": [
    "kf = KFold(n_splits=5)\n",
    "algo = SVD()\n",
    "\n",
    "data = surprise_input\n",
    "\n",
    "for trainset, testset in kf.split(data):\n",
    "    algo.fit(trainset)\n",
    "    predictions = algo.test(testset)\n",
    "    precisions, recalls = precision_recall_at_k(predictions, k=5, threshold=4.5)\n",
    "\n",
    "    # Precision and recall can then be averaged over all users\n",
    "    print(sum(prec for prec in precisions.values()) / len(precisions))\n",
    "    print(sum(rec for rec in recalls.values()) / len(recalls))"
   ],
   "metadata": {
    "collapsed": false,
    "ExecuteTime": {
     "end_time": "2023-10-29T14:18:24.359878520Z",
     "start_time": "2023-10-29T14:17:59.117474090Z"
    }
   },
   "id": "2d9dfea3d0a23ce6"
  },
  {
   "cell_type": "code",
   "execution_count": 24,
   "outputs": [
    {
     "name": "stdout",
     "output_type": "stream",
     "text": [
      "0.8721246224535706\n",
      "0.889829895633467\n",
      "0.8714957899950483\n",
      "0.8881449620934595\n",
      "0.8720755154042158\n",
      "0.889325961235333\n",
      "0.8727464242598686\n",
      "0.88930001866526\n",
      "0.8740997229916903\n",
      "0.890687334799102\n"
     ]
    }
   ],
   "source": [
    "kf = KFold(n_splits=5)\n",
    "algo = SVDpp()\n",
    "\n",
    "data = surprise_input\n",
    "\n",
    "for trainset, testset in kf.split(data):\n",
    "    algo.fit(trainset)\n",
    "    predictions = algo.test(testset)\n",
    "    precisions, recalls = precision_recall_at_k(predictions, k=5, threshold=4.5)\n",
    "\n",
    "    # Precision and recall can then be averaged over all users\n",
    "    print(sum(prec for prec in precisions.values()) / len(precisions))\n",
    "    print(sum(rec for rec in recalls.values()) / len(recalls))"
   ],
   "metadata": {
    "collapsed": false,
    "ExecuteTime": {
     "end_time": "2023-10-29T14:18:55.757987069Z",
     "start_time": "2023-10-29T14:18:24.357802112Z"
    }
   },
   "id": "c5b2714102af2386"
  },
  {
   "cell_type": "code",
   "execution_count": 25,
   "outputs": [
    {
     "name": "stdout",
     "output_type": "stream",
     "text": [
      "0.7614404401032892\n",
      "0.7358152578013764\n",
      "0.7631288550501157\n",
      "0.7382281378884116\n",
      "0.7604661368568869\n",
      "0.7363160348630485\n",
      "0.7649081799002688\n",
      "0.7403979297696934\n",
      "0.7636483318883861\n",
      "0.7387230352918868\n"
     ]
    }
   ],
   "source": [
    " \n",
    "kf = KFold(n_splits=5)\n",
    "algo = NormalPredictor()\n",
    "\n",
    "data = surprise_input\n",
    "\n",
    "for trainset, testset in kf.split(data):\n",
    "    algo.fit(trainset)\n",
    "    predictions = algo.test(testset)\n",
    "    precisions, recalls = precision_recall_at_k(predictions, k=5, threshold=4.5)\n",
    "\n",
    "    # Precision and recall can then be averaged over all users\n",
    "    print(sum(prec for prec in precisions.values()) / len(precisions))\n",
    "    print(sum(rec for rec in recalls.values()) / len(recalls))"
   ],
   "metadata": {
    "collapsed": false,
    "ExecuteTime": {
     "end_time": "2023-10-29T14:19:03.945804108Z",
     "start_time": "2023-10-29T14:18:55.757862296Z"
    }
   },
   "id": "1c74f21060ffeaf8"
  },
  {
   "cell_type": "code",
   "execution_count": 26,
   "outputs": [
    {
     "name": "stdout",
     "output_type": "stream",
     "text": [
      "Estimating biases using als...\n",
      "0.8771127716306627\n",
      "0.8958195570136941\n",
      "Estimating biases using als...\n",
      "0.8758352311318875\n",
      "0.8943662433827841\n",
      "Estimating biases using als...\n",
      "0.8759509683824545\n",
      "0.894954980767317\n",
      "Estimating biases using als...\n",
      "0.8763195012101107\n",
      "0.8953530897278791\n",
      "Estimating biases using als...\n",
      "0.8760996456118411\n",
      "0.8947649329684976\n"
     ]
    }
   ],
   "source": [
    " \n",
    "kf = KFold(n_splits=5)\n",
    "algo = BaselineOnly()\n",
    "\n",
    "data = surprise_input\n",
    "\n",
    "for trainset, testset in kf.split(data):\n",
    "    algo.fit(trainset)\n",
    "    predictions = algo.test(testset)\n",
    "    precisions, recalls = precision_recall_at_k(predictions, k=5, threshold=4.5)\n",
    "\n",
    "    # Precision and recall can then be averaged over all users\n",
    "    print(sum(prec for prec in precisions.values()) / len(precisions))\n",
    "    print(sum(rec for rec in recalls.values()) / len(recalls))"
   ],
   "metadata": {
    "collapsed": false,
    "ExecuteTime": {
     "end_time": "2023-10-29T14:19:18.113085237Z",
     "start_time": "2023-10-29T14:19:03.955475892Z"
    }
   },
   "id": "9ebb03ac7ebd8d18"
  },
  {
   "cell_type": "code",
   "execution_count": 27,
   "outputs": [
    {
     "name": "stdout",
     "output_type": "stream",
     "text": [
      "0.566140953570685\n",
      "0.5253649977962903\n",
      "0.561277382782475\n",
      "0.5192664192712233\n",
      "0.569766603369949\n",
      "0.5301650445690536\n",
      "0.5790559867585849\n",
      "0.5387818620499524\n",
      "0.5860986187601709\n",
      "0.5476407250883569\n"
     ]
    }
   ],
   "source": [
    "\n",
    "kf = KFold(n_splits=5)\n",
    "algo = NMF()\n",
    "\n",
    "data = surprise_input\n",
    "\n",
    "for trainset, testset in kf.split(data):\n",
    "    algo.fit(trainset)\n",
    "    predictions = algo.test(testset)\n",
    "    precisions, recalls = precision_recall_at_k(predictions, k=5, threshold=4.5)\n",
    "\n",
    "    # Precision and recall can then be averaged over all users\n",
    "    print(sum(prec for prec in precisions.values()) / len(precisions))\n",
    "    print(sum(rec for rec in recalls.values()) / len(recalls))"
   ],
   "metadata": {
    "collapsed": false,
    "ExecuteTime": {
     "end_time": "2023-10-29T14:20:11.353926302Z",
     "start_time": "2023-10-29T14:19:18.116210799Z"
    }
   },
   "id": "8713e3d755c3796b"
  },
  {
   "cell_type": "code",
   "execution_count": 28,
   "outputs": [
    {
     "name": "stdout",
     "output_type": "stream",
     "text": [
      "0.5651623451904085\n",
      "0.5230425072783135\n",
      "0.6067869065059198\n",
      "0.5726682231287284\n",
      "0.5991862088891025\n",
      "0.5604202829427943\n",
      "0.5882707737193513\n",
      "0.547676380616361\n",
      "0.5726671476671478\n",
      "0.5308154771448425\n"
     ]
    }
   ],
   "source": [
    "\n",
    "kf = KFold(n_splits=5)\n",
    "algo = NMF()\n",
    "\n",
    "data = surprise_input\n",
    "\n",
    "for trainset, testset in kf.split(data):\n",
    "    algo.fit(trainset)\n",
    "    predictions = algo.test(testset)\n",
    "    precisions, recalls = precision_recall_at_k(predictions, k=5, threshold=4.5)\n",
    "\n",
    "    # Precision and recall can then be averaged over all users\n",
    "    print(sum(prec for prec in precisions.values()) / len(precisions))\n",
    "    print(sum(rec for rec in recalls.values()) / len(recalls))"
   ],
   "metadata": {
    "collapsed": false,
    "ExecuteTime": {
     "end_time": "2023-10-29T14:21:06.675435396Z",
     "start_time": "2023-10-29T14:20:11.376086829Z"
    }
   },
   "id": "60e00c1534b76443"
  },
  {
   "cell_type": "code",
   "execution_count": 29,
   "outputs": [
    {
     "name": "stdout",
     "output_type": "stream",
     "text": [
      "0.8331387511434215\n",
      "0.8407322944014726\n",
      "0.8410244051348799\n",
      "0.849055768958044\n",
      "0.8421368917501432\n",
      "0.8516160175898577\n",
      "0.8403589188322106\n",
      "0.8488355493426476\n",
      "0.8383118751348634\n",
      "0.8460052871996337\n"
     ]
    }
   ],
   "source": [
    "\n",
    "kf = KFold(n_splits=5)\n",
    "algo = CoClustering()\n",
    "\n",
    "data = surprise_input\n",
    "\n",
    "for trainset, testset in kf.split(data):\n",
    "    algo.fit(trainset)\n",
    "    predictions = algo.test(testset)\n",
    "    precisions, recalls = precision_recall_at_k(predictions, k=5, threshold=4.5)\n",
    "\n",
    "    # Precision and recall can then be averaged over all users\n",
    "    print(sum(prec for prec in precisions.values()) / len(precisions))\n",
    "    print(sum(rec for rec in recalls.values()) / len(recalls))"
   ],
   "metadata": {
    "collapsed": false,
    "ExecuteTime": {
     "end_time": "2023-10-29T14:22:12.562015504Z",
     "start_time": "2023-10-29T14:21:06.675865631Z"
    }
   },
   "id": "348ce388a346556d"
  },
  {
   "cell_type": "code",
   "execution_count": 30,
   "outputs": [
    {
     "name": "stdout",
     "output_type": "stream",
     "text": [
      "0.8417096447679188\n",
      "0.8500022400520064\n",
      "0.8377023273632794\n",
      "0.8455000284171343\n",
      "0.839436044135677\n",
      "0.8478397393557616\n",
      "0.8418786598828839\n",
      "0.8519022101249469\n",
      "0.8439096140689779\n",
      "0.8530477195145798\n"
     ]
    }
   ],
   "source": [
    "\n",
    "kf = KFold(n_splits=5)\n",
    "algo = CoClustering()\n",
    "\n",
    "data = surprise_input\n",
    "\n",
    "for trainset, testset in kf.split(data):\n",
    "    algo.fit(trainset)\n",
    "    predictions = algo.test(testset)\n",
    "    precisions, recalls = precision_recall_at_k(predictions, k=5, threshold=4.5)\n",
    "\n",
    "    # Precision and recall can then be averaged over all users\n",
    "    print(sum(prec for prec in precisions.values()) / len(precisions))\n",
    "    print(sum(rec for rec in recalls.values()) / len(recalls))"
   ],
   "metadata": {
    "collapsed": false,
    "ExecuteTime": {
     "end_time": "2023-10-29T14:23:13.941012595Z",
     "start_time": "2023-10-29T14:22:12.590551472Z"
    }
   },
   "id": "2e209521a449fafd"
  }
 ],
 "metadata": {
  "kernelspec": {
   "display_name": "Python 3",
   "language": "python",
   "name": "python3"
  },
  "language_info": {
   "codemirror_mode": {
    "name": "ipython",
    "version": 2
   },
   "file_extension": ".py",
   "mimetype": "text/x-python",
   "name": "python",
   "nbconvert_exporter": "python",
   "pygments_lexer": "ipython2",
   "version": "2.7.6"
  }
 },
 "nbformat": 4,
 "nbformat_minor": 5
}
