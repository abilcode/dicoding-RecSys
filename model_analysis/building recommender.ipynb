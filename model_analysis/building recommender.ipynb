{
 "cells": [
  {
   "cell_type": "code",
   "execution_count": 13,
   "id": "initial_id",
   "metadata": {
    "collapsed": true,
    "ExecuteTime": {
     "end_time": "2023-10-18T03:00:07.858710321Z",
     "start_time": "2023-10-18T03:00:07.809114894Z"
    }
   },
   "outputs": [],
   "source": [
    "from collections import defaultdict\n",
    "import pandas as pd\n",
    "\n",
    "from surprise.model_selection import KFold, cross_validate\n",
    "\n",
    "from surprise import KNNBasic\n",
    "\n",
    "from surprise import SVD\n",
    "from surprise import SVDpp\n",
    "from surprise import  NMF\n",
    "from surprise import NormalPredictor, BaselineOnly\n",
    "from surprise.accuracy import rmse\n",
    "from surprise import accuracy\n",
    "from surprise.model_selection import train_test_split\n",
    "from surprise.model_selection import GridSearchCV\n",
    "\n",
    "\n",
    "from model.data_interface.data import *"
   ]
  },
  {
   "cell_type": "code",
   "execution_count": 2,
   "outputs": [
    {
     "name": "stdout",
     "output_type": "stream",
     "text": [
      "Index(['user_id', 'course_id', 'graduated_at', 'rating'], dtype='object')\n",
      "   user_id  course_id        graduated_at  rating\n",
      "0   623699         14 2020-03-10 11:45:50       5\n",
      "1   406371         14 2020-03-10 08:44:09       4\n",
      "2     1946         14 2020-03-11 13:24:10       5\n",
      "3   186713         14 2020-03-11 17:36:04       4\n",
      "4   462580         14 2020-03-11 08:43:36       4\n"
     ]
    }
   ],
   "source": [
    "data = load_data(data_path=\"../data/dicoding_user_item_rating.gzip\")\n",
    "print(data.head())\n",
    "\n",
    "data_input = data.loc[:, [\"user_id\", \"course_id\", \"rating\"]]\n",
    "surprise_input = reader_data(data=data_input,\n",
    "                             cols=[\"user_id\", \"course_id\", \"rating\"],\n",
    "                             scale=True,\n",
    "                             model=\"surprise\")"
   ],
   "metadata": {
    "collapsed": false,
    "ExecuteTime": {
     "end_time": "2023-10-18T02:55:34.089234174Z",
     "start_time": "2023-10-18T02:55:33.886796537Z"
    }
   },
   "id": "66d45e400481341c"
  },
  {
   "cell_type": "code",
   "execution_count": 3,
   "outputs": [],
   "source": [
    "def get_top_n(predictions, n=10):\n",
    "    \"\"\"Return the top-N recommendation for each user from a set of predictions.\n",
    "\n",
    "    Args:\n",
    "        predictions(list of Prediction objects): The list of predictions, as\n",
    "            returned by the test method of an algorithm.\n",
    "        n(int): The number of recommendation to output for each user. Default\n",
    "            is 10.\n",
    "\n",
    "    Returns:\n",
    "    A dict where keys are user (raw) ids and values are lists of tuples:\n",
    "        [(raw item id, rating estimation), ...] of size n.\n",
    "    \"\"\"\n",
    "\n",
    "    # First map the predictions to each user.\n",
    "    top_n = defaultdict(list)\n",
    "    for uid, iid, true_r, est, _ in predictions:\n",
    "        top_n[uid].append((iid, est))\n",
    "\n",
    "    # Then sort the predictions for each user and retrieve the k highest ones.\n",
    "    for uid, user_ratings in top_n.items():\n",
    "        user_ratings.sort(key=lambda x: x[1], reverse=True)\n",
    "        top_n[uid] = user_ratings[:n]\n",
    "\n",
    "    return top_n"
   ],
   "metadata": {
    "collapsed": false,
    "ExecuteTime": {
     "end_time": "2023-10-18T02:55:34.136691351Z",
     "start_time": "2023-10-18T02:55:34.091703151Z"
    }
   },
   "id": "899391c4e12fbba1"
  },
  {
   "cell_type": "code",
   "execution_count": 4,
   "outputs": [],
   "source": [
    "def precision_recall_at_k(predictions, k=10, threshold=4.5):\n",
    "    \"\"\"Return precision and recall at k metrics for each user\"\"\"\n",
    "\n",
    "    # First map the predictions to each user.\n",
    "    user_est_true = defaultdict(list)\n",
    "    for uid, _, true_r, est, _ in predictions:\n",
    "        user_est_true[uid].append((est, true_r))\n",
    "\n",
    "    precisions = dict()\n",
    "    recalls = dict()\n",
    "    for uid, user_ratings in user_est_true.items():\n",
    "\n",
    "        # Sort user ratings by estimated value\n",
    "        user_ratings.sort(key=lambda x: x[0], reverse=True)\n",
    "\n",
    "        # Number of relevant items\n",
    "        n_rel = sum((true_r >= threshold) for (_, true_r) in user_ratings)\n",
    "\n",
    "        # Number of recommended items in top k\n",
    "        n_rec_k = sum((est >= threshold) for (est, _) in user_ratings[:k])\n",
    "\n",
    "        # Number of relevant and recommended items in top k\n",
    "        n_rel_and_rec_k = sum(\n",
    "            ((true_r >= threshold) and (est >= threshold))\n",
    "            for (est, true_r) in user_ratings[:k]\n",
    "        )\n",
    "\n",
    "        # Precision@K: Proportion of recommended items that are relevant\n",
    "        # When n_rec_k is 0, Precision is undefined. We here set it to 0.\n",
    "\n",
    "        precisions[uid] = n_rel_and_rec_k / n_rec_k if n_rec_k != 0 else 0\n",
    "\n",
    "        # Recall@K: Proportion of relevant items that are recommended\n",
    "        # When n_rel is 0, Recall is undefined. We here set it to 0.\n",
    "\n",
    "        recalls[uid] = n_rel_and_rec_k / n_rel if n_rel != 0 else 0\n",
    "\n",
    "    return precisions, recalls"
   ],
   "metadata": {
    "collapsed": false,
    "ExecuteTime": {
     "end_time": "2023-10-18T02:55:34.137028027Z",
     "start_time": "2023-10-18T02:55:34.133212518Z"
    }
   },
   "id": "8bd7b14e309f1f35"
  },
  {
   "cell_type": "code",
   "execution_count": 5,
   "outputs": [],
   "source": [
    "trainset = surprise_input.build_full_trainset()\n",
    "\n",
    "testset  = trainset.build_anti_testset()"
   ],
   "metadata": {
    "collapsed": false,
    "ExecuteTime": {
     "end_time": "2023-10-18T02:55:36.603470883Z",
     "start_time": "2023-10-18T02:55:34.133584011Z"
    }
   },
   "id": "df9dc40f54ee8db0"
  },
  {
   "cell_type": "code",
   "execution_count": 6,
   "outputs": [],
   "source": [
    "algo = SVD()\n",
    "algo.fit(trainset)\n",
    "\n",
    "# Than predict ratings for all pairs (u, i) that are NOT in the training set.\n",
    "\n",
    "predictions = algo.test(testset)\n",
    "\n",
    "top_n = get_top_n(predictions, n=10)"
   ],
   "metadata": {
    "collapsed": false,
    "ExecuteTime": {
     "end_time": "2023-10-18T02:56:09.381191298Z",
     "start_time": "2023-10-18T02:55:36.605546046Z"
    }
   },
   "id": "b86484fff28472c3"
  },
  {
   "cell_type": "code",
   "execution_count": 7,
   "outputs": [
    {
     "name": "stdout",
     "output_type": "stream",
     "text": [
      "2447675 [153, 418, 510, 332, 605, 428, 276, 413, 302, 423]\n"
     ]
    }
   ],
   "source": [
    "# Print the recommended items for each user\n",
    "for uid, user_ratings in top_n.items():\n",
    "    if uid == int(\"2447675\"):\n",
    "        print(uid, [iid for (iid, _) in user_ratings])"
   ],
   "metadata": {
    "collapsed": false,
    "ExecuteTime": {
     "end_time": "2023-10-18T02:56:09.421525300Z",
     "start_time": "2023-10-18T02:56:09.421007622Z"
    }
   },
   "id": "e770bbdc7f785f27"
  },
  {
   "cell_type": "code",
   "execution_count": 8,
   "outputs": [
    {
     "name": "stdout",
     "output_type": "stream",
     "text": [
      "0.9877744330724464\n",
      "0.989136862334936\n",
      "0.9876169291811953\n",
      "0.9893801851629197\n",
      "0.9869693178719787\n",
      "0.9883550597637835\n",
      "0.9871185424907108\n",
      "0.9884780935500102\n",
      "0.9873767564939465\n",
      "0.9890930849277133\n"
     ]
    }
   ],
   "source": [
    "kf = KFold(n_splits=5)\n",
    "algo = SVD()\n",
    "\n",
    "data = surprise_input\n",
    "\n",
    "for trainset, testset in kf.split(data):\n",
    "    algo.fit(trainset)\n",
    "    predictions = algo.test(testset)\n",
    "    precisions, recalls = precision_recall_at_k(predictions, k=5, threshold=4)\n",
    "\n",
    "    # Precision and recall can then be averaged over all users\n",
    "    print(sum(prec for prec in precisions.values()) / len(precisions))\n",
    "    print(sum(rec for rec in recalls.values()) / len(recalls))"
   ],
   "metadata": {
    "collapsed": false,
    "ExecuteTime": {
     "end_time": "2023-10-18T02:56:32.943197847Z",
     "start_time": "2023-10-18T02:56:09.421243901Z"
    }
   },
   "id": "2d9dfea3d0a23ce6"
  },
  {
   "cell_type": "code",
   "execution_count": 9,
   "outputs": [
    {
     "name": "stdout",
     "output_type": "stream",
     "text": [
      "0.9867760299986351\n",
      "0.988270563082068\n",
      "0.9878899155966242\n",
      "0.9892116160836909\n",
      "0.9869252319943486\n",
      "0.9883760185350834\n",
      "0.9872364213411555\n",
      "0.9885464597114954\n",
      "0.9870072179896978\n",
      "0.9882857016968628\n"
     ]
    }
   ],
   "source": [
    "kf = KFold(n_splits=5)\n",
    "algo = SVDpp()\n",
    "\n",
    "data = surprise_input\n",
    "\n",
    "for trainset, testset in kf.split(data):\n",
    "    algo.fit(trainset)\n",
    "    predictions = algo.test(testset)\n",
    "    precisions, recalls = precision_recall_at_k(predictions, k=5, threshold=4)\n",
    "\n",
    "    # Precision and recall can then be averaged over all users\n",
    "    print(sum(prec for prec in precisions.values()) / len(precisions))\n",
    "    print(sum(rec for rec in recalls.values()) / len(recalls))"
   ],
   "metadata": {
    "collapsed": false,
    "ExecuteTime": {
     "end_time": "2023-10-18T02:57:03.453308214Z",
     "start_time": "2023-10-18T02:56:32.961066950Z"
    }
   },
   "id": "c5b2714102af2386"
  },
  {
   "cell_type": "code",
   "execution_count": 14,
   "outputs": [
    {
     "name": "stdout",
     "output_type": "stream",
     "text": [
      "0.9777459522777969\n",
      "0.9753564556722505\n",
      "0.9763801882549473\n",
      "0.973923884559607\n",
      "0.977110420880285\n",
      "0.9748989257088432\n",
      "0.9773113917162793\n",
      "0.9748743773644152\n",
      "0.9787590568832314\n",
      "0.9760651281120838\n"
     ]
    }
   ],
   "source": [
    " \n",
    "kf = KFold(n_splits=5)\n",
    "algo = NormalPredictor()\n",
    "\n",
    "data = surprise_input\n",
    "\n",
    "for trainset, testset in kf.split(data):\n",
    "    algo.fit(trainset)\n",
    "    predictions = algo.test(testset)\n",
    "    precisions, recalls = precision_recall_at_k(predictions, k=5, threshold=4)\n",
    "\n",
    "    # Precision and recall can then be averaged over all users\n",
    "    print(sum(prec for prec in precisions.values()) / len(precisions))\n",
    "    print(sum(rec for rec in recalls.values()) / len(recalls))"
   ],
   "metadata": {
    "collapsed": false,
    "ExecuteTime": {
     "end_time": "2023-10-18T03:00:23.648844156Z",
     "start_time": "2023-10-18T03:00:15.211466141Z"
    }
   },
   "id": "1c74f21060ffeaf8"
  },
  {
   "cell_type": "code",
   "execution_count": 15,
   "outputs": [
    {
     "name": "stdout",
     "output_type": "stream",
     "text": [
      "Estimating biases using als...\n",
      "0.9879609890855672\n",
      "0.9892211414487396\n",
      "Estimating biases using als...\n",
      "0.9872725303292897\n",
      "0.9889671808522905\n",
      "Estimating biases using als...\n",
      "0.9870987506006726\n",
      "0.9885421810956411\n",
      "Estimating biases using als...\n",
      "0.9869669005735527\n",
      "0.9882709257402854\n",
      "Estimating biases using als...\n",
      "0.9874816631796649\n",
      "0.9889319224865003\n"
     ]
    }
   ],
   "source": [
    " \n",
    "kf = KFold(n_splits=5)\n",
    "algo = BaselineOnly()\n",
    "\n",
    "data = surprise_input\n",
    "\n",
    "for trainset, testset in kf.split(data):\n",
    "    algo.fit(trainset)\n",
    "    predictions = algo.test(testset)\n",
    "    precisions, recalls = precision_recall_at_k(predictions, k=5, threshold=4)\n",
    "\n",
    "    # Precision and recall can then be averaged over all users\n",
    "    print(sum(prec for prec in precisions.values()) / len(precisions))\n",
    "    print(sum(rec for rec in recalls.values()) / len(recalls))"
   ],
   "metadata": {
    "collapsed": false,
    "ExecuteTime": {
     "end_time": "2023-10-18T03:00:51.252595562Z",
     "start_time": "2023-10-18T03:00:36.959833258Z"
    }
   },
   "id": "9ebb03ac7ebd8d18"
  },
  {
   "cell_type": "code",
   "execution_count": null,
   "outputs": [],
   "source": [],
   "metadata": {
    "collapsed": false
   },
   "id": "8713e3d755c3796b"
  }
 ],
 "metadata": {
  "kernelspec": {
   "display_name": "Python 3",
   "language": "python",
   "name": "python3"
  },
  "language_info": {
   "codemirror_mode": {
    "name": "ipython",
    "version": 2
   },
   "file_extension": ".py",
   "mimetype": "text/x-python",
   "name": "python",
   "nbconvert_exporter": "python",
   "pygments_lexer": "ipython2",
   "version": "2.7.6"
  }
 },
 "nbformat": 4,
 "nbformat_minor": 5
}
