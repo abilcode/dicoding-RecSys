{
 "cells": [
  {
   "cell_type": "code",
   "execution_count": 13,
   "id": "initial_id",
   "metadata": {
    "collapsed": true,
    "ExecuteTime": {
     "end_time": "2023-10-24T06:15:44.237432896Z",
     "start_time": "2023-10-24T06:15:44.167478313Z"
    }
   },
   "outputs": [],
   "source": [
    "from collections import defaultdict\n",
    "import pandas as pd\n",
    "\n",
    "from surprise.model_selection import KFold, cross_validate\n",
    "\n",
    "from surprise import KNNBasic\n",
    "\n",
    "from surprise import SVD\n",
    "from surprise import SVDpp\n",
    "from surprise import  NMF\n",
    "from surprise import NormalPredictor, BaselineOnly\n",
    "from surprise.accuracy import rmse\n",
    "from surprise import accuracy\n",
    "from surprise.model_selection import train_test_split\n",
    "from surprise.model_selection import GridSearchCV\n",
    "\n",
    "\n",
    "from model.data_interface.data import *"
   ]
  },
  {
   "cell_type": "code",
   "execution_count": 14,
   "outputs": [
    {
     "name": "stdout",
     "output_type": "stream",
     "text": [
      "Index(['user_id', 'course_id', 'graduated_at', 'rating'], dtype='object')\n",
      "   user_id  course_id        graduated_at  rating\n",
      "0   623699         14 2020-03-10 11:45:50       5\n",
      "1   406371         14 2020-03-10 08:44:09       4\n",
      "2     1946         14 2020-03-11 13:24:10       5\n",
      "3   186713         14 2020-03-11 17:36:04       4\n",
      "4   462580         14 2020-03-11 08:43:36       4\n"
     ]
    }
   ],
   "source": [
    "data = load_data(data_path=\"../data/dicoding_user_item_rating.gzip\")\n",
    "print(data.head())\n",
    "\n",
    "data_input = data.loc[:, [\"user_id\", \"course_id\", \"rating\"]]\n",
    "surprise_input = reader_data(data=data_input,\n",
    "                             cols=[\"user_id\", \"course_id\", \"rating\"],\n",
    "                             scale=True,\n",
    "                             model=\"surprise\")"
   ],
   "metadata": {
    "collapsed": false,
    "ExecuteTime": {
     "end_time": "2023-10-24T06:15:44.397117046Z",
     "start_time": "2023-10-24T06:15:44.215747076Z"
    }
   },
   "id": "66d45e400481341c"
  },
  {
   "cell_type": "code",
   "execution_count": 15,
   "outputs": [],
   "source": [
    "def get_top_n(predictions, n=10):\n",
    "    \"\"\"Return the top-N recommendation for each user from a set of predictions.\n",
    "\n",
    "    Args:\n",
    "        predictions(list of Prediction objects): The list of predictions, as\n",
    "            returned by the test method of an algorithm.\n",
    "        n(int): The number of recommendation to output for each user. Default\n",
    "            is 10.\n",
    "\n",
    "    Returns:\n",
    "    A dict where keys are user (raw) ids and values are lists of tuples:\n",
    "        [(raw item id, rating estimation), ...] of size n.\n",
    "    \"\"\"\n",
    "\n",
    "    # First map the predictions to each user.\n",
    "    top_n = defaultdict(list)\n",
    "    for uid, iid, true_r, est, _ in predictions:\n",
    "        top_n[uid].append((iid, est))\n",
    "\n",
    "    # Then sort the predictions for each user and retrieve the k highest ones.\n",
    "    for uid, user_ratings in top_n.items():\n",
    "        user_ratings.sort(key=lambda x: x[1], reverse=True)\n",
    "        top_n[uid] = user_ratings[:n]\n",
    "\n",
    "    return top_n"
   ],
   "metadata": {
    "collapsed": false,
    "ExecuteTime": {
     "end_time": "2023-10-24T06:15:44.444384386Z",
     "start_time": "2023-10-24T06:15:44.401285756Z"
    }
   },
   "id": "899391c4e12fbba1"
  },
  {
   "cell_type": "code",
   "execution_count": 16,
   "outputs": [],
   "source": [
    "def precision_recall_at_k(predictions, k=10, threshold=4.5):\n",
    "    \"\"\"Return precision and recall at k metrics for each user\"\"\"\n",
    "\n",
    "    # First map the predictions to each user.\n",
    "    user_est_true = defaultdict(list)\n",
    "    for uid, _, true_r, est, _ in predictions:\n",
    "        user_est_true[uid].append((est, true_r))\n",
    "\n",
    "    precisions = dict()\n",
    "    recalls = dict()\n",
    "    for uid, user_ratings in user_est_true.items():\n",
    "\n",
    "        # Sort user ratings by estimated value\n",
    "        user_ratings.sort(key=lambda x: x[0], reverse=True)\n",
    "\n",
    "        # Number of relevant items\n",
    "        n_rel = sum((true_r >= threshold) for (_, true_r) in user_ratings)\n",
    "\n",
    "        # Number of recommended items in top k\n",
    "        n_rec_k = sum((est >= threshold) for (est, _) in user_ratings[:k])\n",
    "\n",
    "        # Number of relevant and recommended items in top k\n",
    "        n_rel_and_rec_k = sum(\n",
    "            ((true_r >= threshold) and (est >= threshold))\n",
    "            for (est, true_r) in user_ratings[:k]\n",
    "        )\n",
    "\n",
    "        # Precision@K: Proportion of recommended items that are relevant\n",
    "        # When n_rec_k is 0, Precision is undefined. We here set it to 0.\n",
    "\n",
    "        precisions[uid] = n_rel_and_rec_k / n_rec_k if n_rec_k != 0 else 0\n",
    "\n",
    "        # Recall@K: Proportion of relevant items that are recommended\n",
    "        # When n_rel is 0, Recall is undefined. We here set it to 0.\n",
    "\n",
    "        recalls[uid] = n_rel_and_rec_k / n_rel if n_rel != 0 else 0\n",
    "\n",
    "    return precisions, recalls"
   ],
   "metadata": {
    "collapsed": false,
    "ExecuteTime": {
     "end_time": "2023-10-24T06:15:44.444770743Z",
     "start_time": "2023-10-24T06:15:44.443934027Z"
    }
   },
   "id": "8bd7b14e309f1f35"
  },
  {
   "cell_type": "code",
   "execution_count": 17,
   "outputs": [],
   "source": [
    "trainset = surprise_input.build_full_trainset()\n",
    "\n",
    "testset  = trainset.build_anti_testset()"
   ],
   "metadata": {
    "collapsed": false,
    "ExecuteTime": {
     "end_time": "2023-10-24T06:15:47.438837665Z",
     "start_time": "2023-10-24T06:15:44.444262863Z"
    }
   },
   "id": "df9dc40f54ee8db0"
  },
  {
   "cell_type": "code",
   "execution_count": 18,
   "outputs": [],
   "source": [
    "algo = SVD()\n",
    "algo.fit(trainset)\n",
    "\n",
    "# Than predict ratings for all pairs (u, i) that are NOT in the training set.\n",
    "\n",
    "predictions = algo.test(testset)\n",
    "\n",
    "top_n = get_top_n(predictions, n=10)"
   ],
   "metadata": {
    "collapsed": false,
    "ExecuteTime": {
     "end_time": "2023-10-24T06:16:24.512297452Z",
     "start_time": "2023-10-24T06:15:47.557601552Z"
    }
   },
   "id": "b86484fff28472c3"
  },
  {
   "cell_type": "code",
   "execution_count": 19,
   "outputs": [
    {
     "name": "stdout",
     "output_type": "stream",
     "text": [
      "2447675 [615, 159, 428, 169, 423, 292, 403, 219, 387, 86]\n"
     ]
    }
   ],
   "source": [
    "# Print the recommended items for each user\n",
    "for uid, user_ratings in top_n.items():\n",
    "    if uid == int(\"2447675\"):\n",
    "        print(uid, [iid for (iid, _) in user_ratings])"
   ],
   "metadata": {
    "collapsed": false,
    "ExecuteTime": {
     "end_time": "2023-10-24T06:16:24.558446897Z",
     "start_time": "2023-10-24T06:16:24.535110727Z"
    }
   },
   "id": "e770bbdc7f785f27"
  },
  {
   "cell_type": "code",
   "execution_count": 20,
   "outputs": [
    {
     "name": "stdout",
     "output_type": "stream",
     "text": [
      "0.8746445421703163\n",
      "0.8917465981898972\n",
      "0.874188865092925\n",
      "0.8914086733425233\n",
      "0.8731406583529947\n",
      "0.8911931889831644\n",
      "0.8767020484618528\n",
      "0.8937477910635374\n",
      "0.8739442849445503\n",
      "0.8913595288453549\n"
     ]
    }
   ],
   "source": [
    "kf = KFold(n_splits=5)\n",
    "algo = SVD()\n",
    "\n",
    "data = surprise_input\n",
    "\n",
    "for trainset, testset in kf.split(data):\n",
    "    algo.fit(trainset)\n",
    "    predictions = algo.test(testset)\n",
    "    precisions, recalls = precision_recall_at_k(predictions, k=5, threshold=4.5)\n",
    "\n",
    "    # Precision and recall can then be averaged over all users\n",
    "    print(sum(prec for prec in precisions.values()) / len(precisions))\n",
    "    print(sum(rec for rec in recalls.values()) / len(recalls))"
   ],
   "metadata": {
    "collapsed": false,
    "ExecuteTime": {
     "end_time": "2023-10-24T06:16:48.824975028Z",
     "start_time": "2023-10-24T06:16:24.560858583Z"
    }
   },
   "id": "2d9dfea3d0a23ce6"
  },
  {
   "cell_type": "code",
   "execution_count": 21,
   "outputs": [
    {
     "name": "stdout",
     "output_type": "stream",
     "text": [
      "0.8720813098042993\n",
      "0.8879795211333411\n",
      "0.8721297409991186\n",
      "0.8887686098414989\n",
      "0.8718061674008815\n",
      "0.8888691054123999\n",
      "0.8740667434384161\n",
      "0.8897912183035257\n",
      "0.8693280202282082\n",
      "0.8860407337020473\n"
     ]
    }
   ],
   "source": [
    "kf = KFold(n_splits=5)\n",
    "algo = SVDpp()\n",
    "\n",
    "data = surprise_input\n",
    "\n",
    "for trainset, testset in kf.split(data):\n",
    "    algo.fit(trainset)\n",
    "    predictions = algo.test(testset)\n",
    "    precisions, recalls = precision_recall_at_k(predictions, k=5, threshold=4.5)\n",
    "\n",
    "    # Precision and recall can then be averaged over all users\n",
    "    print(sum(prec for prec in precisions.values()) / len(precisions))\n",
    "    print(sum(rec for rec in recalls.values()) / len(recalls))"
   ],
   "metadata": {
    "collapsed": false,
    "ExecuteTime": {
     "end_time": "2023-10-24T06:17:19.734600845Z",
     "start_time": "2023-10-24T06:16:48.841054009Z"
    }
   },
   "id": "c5b2714102af2386"
  },
  {
   "cell_type": "code",
   "execution_count": 22,
   "outputs": [
    {
     "name": "stdout",
     "output_type": "stream",
     "text": [
      "0.7627772841166545\n",
      "0.7379483024347224\n",
      "0.7632377105024807\n",
      "0.7385964631041223\n",
      "0.7624376430895287\n",
      "0.7374217681610152\n",
      "0.7640318892034103\n",
      "0.7385643727976893\n",
      "0.7637126018123198\n",
      "0.7376406767498748\n"
     ]
    }
   ],
   "source": [
    " \n",
    "kf = KFold(n_splits=5)\n",
    "algo = NormalPredictor()\n",
    "\n",
    "data = surprise_input\n",
    "\n",
    "for trainset, testset in kf.split(data):\n",
    "    algo.fit(trainset)\n",
    "    predictions = algo.test(testset)\n",
    "    precisions, recalls = precision_recall_at_k(predictions, k=5, threshold=4.5)\n",
    "\n",
    "    # Precision and recall can then be averaged over all users\n",
    "    print(sum(prec for prec in precisions.values()) / len(precisions))\n",
    "    print(sum(rec for rec in recalls.values()) / len(recalls))"
   ],
   "metadata": {
    "collapsed": false,
    "ExecuteTime": {
     "end_time": "2023-10-24T06:17:28.628309705Z",
     "start_time": "2023-10-24T06:17:19.740756322Z"
    }
   },
   "id": "1c74f21060ffeaf8"
  },
  {
   "cell_type": "code",
   "execution_count": 23,
   "outputs": [
    {
     "name": "stdout",
     "output_type": "stream",
     "text": [
      "Estimating biases using als...\n",
      "0.8756038414594985\n",
      "0.8938080240432572\n",
      "Estimating biases using als...\n",
      "0.8777210638673543\n",
      "0.8962468595245356\n",
      "Estimating biases using als...\n",
      "0.8768973214285715\n",
      "0.8956550838301273\n",
      "Estimating biases using als...\n",
      "0.8757322929171673\n",
      "0.8941835158305745\n",
      "Estimating biases using als...\n",
      "0.8754158853791046\n",
      "0.894218767767376\n"
     ]
    }
   ],
   "source": [
    " \n",
    "kf = KFold(n_splits=5)\n",
    "algo = BaselineOnly()\n",
    "\n",
    "data = surprise_input\n",
    "\n",
    "for trainset, testset in kf.split(data):\n",
    "    algo.fit(trainset)\n",
    "    predictions = algo.test(testset)\n",
    "    precisions, recalls = precision_recall_at_k(predictions, k=5, threshold=4.5)\n",
    "\n",
    "    # Precision and recall can then be averaged over all users\n",
    "    print(sum(prec for prec in precisions.values()) / len(precisions))\n",
    "    print(sum(rec for rec in recalls.values()) / len(recalls))"
   ],
   "metadata": {
    "collapsed": false,
    "ExecuteTime": {
     "end_time": "2023-10-24T06:17:43.267434920Z",
     "start_time": "2023-10-24T06:17:28.647436357Z"
    }
   },
   "id": "9ebb03ac7ebd8d18"
  },
  {
   "cell_type": "code",
   "execution_count": 24,
   "outputs": [
    {
     "name": "stdout",
     "output_type": "stream",
     "text": [
      "0.5419032736306446\n",
      "0.4987749140976691\n",
      "0.6070854585699161\n",
      "0.5698953633007136\n",
      "0.5942136178374491\n",
      "0.557370538968477\n",
      "0.5849086576648131\n",
      "0.5457599485796464\n",
      "0.5578595773687798\n",
      "0.5150176495918106\n"
     ]
    }
   ],
   "source": [
    "\n",
    "kf = KFold(n_splits=5)\n",
    "algo = NMF()\n",
    "\n",
    "data = surprise_input\n",
    "\n",
    "for trainset, testset in kf.split(data):\n",
    "    algo.fit(trainset)\n",
    "    predictions = algo.test(testset)\n",
    "    precisions, recalls = precision_recall_at_k(predictions, k=5, threshold=4.5)\n",
    "\n",
    "    # Precision and recall can then be averaged over all users\n",
    "    print(sum(prec for prec in precisions.values()) / len(precisions))\n",
    "    print(sum(rec for rec in recalls.values()) / len(recalls))"
   ],
   "metadata": {
    "collapsed": false,
    "ExecuteTime": {
     "end_time": "2023-10-24T06:18:38.594223300Z",
     "start_time": "2023-10-24T06:17:43.270469216Z"
    }
   },
   "id": "8713e3d755c3796b"
  }
 ],
 "metadata": {
  "kernelspec": {
   "display_name": "Python 3",
   "language": "python",
   "name": "python3"
  },
  "language_info": {
   "codemirror_mode": {
    "name": "ipython",
    "version": 2
   },
   "file_extension": ".py",
   "mimetype": "text/x-python",
   "name": "python",
   "nbconvert_exporter": "python",
   "pygments_lexer": "ipython2",
   "version": "2.7.6"
  }
 },
 "nbformat": 4,
 "nbformat_minor": 5
}
