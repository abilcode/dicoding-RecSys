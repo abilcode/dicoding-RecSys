{
 "cells": [
  {
   "cell_type": "code",
   "execution_count": 16,
   "id": "initial_id",
   "metadata": {
    "collapsed": true,
    "ExecuteTime": {
     "end_time": "2023-10-03T02:44:17.696575108Z",
     "start_time": "2023-10-03T02:44:17.485472489Z"
    }
   },
   "outputs": [],
   "source": [
    "from collections import defaultdict\n",
    "import pandas as pd\n",
    "\n",
    "from surprise.model_selection import KFold, cross_validate\n",
    "\n",
    "from surprise import KNNBasic\n",
    "\n",
    "from surprise import SVD\n",
    "\n",
    "from surprise.accuracy import rmse\n",
    "from surprise import accuracy\n",
    "from surprise.model_selection import train_test_split\n",
    "from surprise.model_selection import GridSearchCV\n",
    "\n",
    "\n",
    "from model.data_interface.data import *"
   ]
  },
  {
   "cell_type": "code",
   "execution_count": 4,
   "outputs": [
    {
     "name": "stdout",
     "output_type": "stream",
     "text": [
      "Index(['user_id', 'course_id', 'graduated_at', 'rating'], dtype='object')\n",
      "   user_id  course_id        graduated_at  rating\n",
      "0   623699         14 2020-03-10 11:45:50       5\n",
      "1   406371         14 2020-03-10 08:44:09       4\n",
      "2     1946         14 2020-03-11 13:24:10       5\n",
      "3   186713         14 2020-03-11 17:36:04       4\n",
      "4   462580         14 2020-03-11 08:43:36       4\n"
     ]
    }
   ],
   "source": [
    "data = load_data(data_path=\"../data/dicoding_user_item_rating.gzip\")\n",
    "print(data.head())\n",
    "\n",
    "data_input = data.loc[:, [\"user_id\", \"course_id\", \"rating\"]]\n",
    "surprise_input = reader_data(data=data_input,\n",
    "                             cols=[\"user_id\", \"course_id\", \"rating\"],\n",
    "                             scale=True,\n",
    "                             model=\"surprise\")"
   ],
   "metadata": {
    "collapsed": false,
    "ExecuteTime": {
     "end_time": "2023-10-03T02:33:56.982770283Z",
     "start_time": "2023-10-03T02:33:56.692926638Z"
    }
   },
   "id": "66d45e400481341c"
  },
  {
   "cell_type": "code",
   "execution_count": 8,
   "outputs": [],
   "source": [
    "def get_top_n(predictions, n=10):\n",
    "    \"\"\"Return the top-N recommendation for each user from a set of predictions.\n",
    "\n",
    "    Args:\n",
    "        predictions(list of Prediction objects): The list of predictions, as\n",
    "            returned by the test method of an algorithm.\n",
    "        n(int): The number of recommendation to output for each user. Default\n",
    "            is 10.\n",
    "\n",
    "    Returns:\n",
    "    A dict where keys are user (raw) ids and values are lists of tuples:\n",
    "        [(raw item id, rating estimation), ...] of size n.\n",
    "    \"\"\"\n",
    "\n",
    "    # First map the predictions to each user.\n",
    "    top_n = defaultdict(list)\n",
    "    for uid, iid, true_r, est, _ in predictions:\n",
    "        top_n[uid].append((iid, est))\n",
    "\n",
    "    # Then sort the predictions for each user and retrieve the k highest ones.\n",
    "    for uid, user_ratings in top_n.items():\n",
    "        user_ratings.sort(key=lambda x: x[1], reverse=True)\n",
    "        top_n[uid] = user_ratings[:n]\n",
    "\n",
    "    return top_n"
   ],
   "metadata": {
    "collapsed": false,
    "ExecuteTime": {
     "end_time": "2023-10-03T02:38:11.498435870Z",
     "start_time": "2023-10-03T02:38:11.456645268Z"
    }
   },
   "id": "899391c4e12fbba1"
  },
  {
   "cell_type": "code",
   "execution_count": 19,
   "outputs": [],
   "source": [
    "def precision_recall_at_k(predictions, k=10, threshold=4.5):\n",
    "    \"\"\"Return precision and recall at k metrics for each user\"\"\"\n",
    "\n",
    "    # First map the predictions to each user.\n",
    "    user_est_true = defaultdict(list)\n",
    "    for uid, _, true_r, est, _ in predictions:\n",
    "        user_est_true[uid].append((est, true_r))\n",
    "\n",
    "    precisions = dict()\n",
    "    recalls = dict()\n",
    "    for uid, user_ratings in user_est_true.items():\n",
    "\n",
    "        # Sort user ratings by estimated value\n",
    "        user_ratings.sort(key=lambda x: x[0], reverse=True)\n",
    "\n",
    "        # Number of relevant items\n",
    "        n_rel = sum((true_r >= threshold) for (_, true_r) in user_ratings)\n",
    "\n",
    "        # Number of recommended items in top k\n",
    "        n_rec_k = sum((est >= threshold) for (est, _) in user_ratings[:k])\n",
    "\n",
    "        # Number of relevant and recommended items in top k\n",
    "        n_rel_and_rec_k = sum(\n",
    "            ((true_r >= threshold) and (est >= threshold))\n",
    "            for (est, true_r) in user_ratings[:k]\n",
    "        )\n",
    "\n",
    "        # Precision@K: Proportion of recommended items that are relevant\n",
    "        # When n_rec_k is 0, Precision is undefined. We here set it to 0.\n",
    "\n",
    "        precisions[uid] = n_rel_and_rec_k / n_rec_k if n_rec_k != 0 else 0\n",
    "\n",
    "        # Recall@K: Proportion of relevant items that are recommended\n",
    "        # When n_rel is 0, Recall is undefined. We here set it to 0.\n",
    "\n",
    "        recalls[uid] = n_rel_and_rec_k / n_rel if n_rel != 0 else 0\n",
    "\n",
    "    return precisions, recalls"
   ],
   "metadata": {
    "collapsed": false,
    "ExecuteTime": {
     "end_time": "2023-10-03T03:02:31.730977457Z",
     "start_time": "2023-10-03T03:02:31.533995083Z"
    }
   },
   "id": "8bd7b14e309f1f35"
  },
  {
   "cell_type": "code",
   "execution_count": 20,
   "outputs": [],
   "source": [
    "trainset = surprise_input.build_full_trainset()\n",
    "\n",
    "testset  = trainset.build_anti_testset()"
   ],
   "metadata": {
    "collapsed": false,
    "ExecuteTime": {
     "end_time": "2023-10-03T03:02:36.114422074Z",
     "start_time": "2023-10-03T03:02:33.567828782Z"
    }
   },
   "id": "df9dc40f54ee8db0"
  },
  {
   "cell_type": "code",
   "execution_count": 21,
   "outputs": [],
   "source": [
    "algo = SVD()\n",
    "algo.fit(trainset)\n",
    "\n",
    "# Than predict ratings for all pairs (u, i) that are NOT in the training set.\n",
    "\n",
    "predictions = algo.test(testset)\n",
    "\n",
    "top_n = get_top_n(predictions, n=10)"
   ],
   "metadata": {
    "collapsed": false,
    "ExecuteTime": {
     "end_time": "2023-10-03T03:03:05.840477830Z",
     "start_time": "2023-10-03T03:02:37.121255598Z"
    }
   },
   "id": "b86484fff28472c3"
  },
  {
   "cell_type": "code",
   "execution_count": 25,
   "outputs": [
    {
     "name": "stdout",
     "output_type": "stream",
     "text": [
      "2447675 [153, 418, 480, 428, 195, 32, 276, 159, 123, 251]\n"
     ]
    }
   ],
   "source": [
    "# Print the recommended items for each user\n",
    "for uid, user_ratings in top_n.items():\n",
    "    if uid == int(\"2447675\"):\n",
    "        print(uid, [iid for (iid, _) in user_ratings])"
   ],
   "metadata": {
    "collapsed": false,
    "ExecuteTime": {
     "end_time": "2023-10-03T03:11:31.849191664Z",
     "start_time": "2023-10-03T03:11:31.820128255Z"
    }
   },
   "id": "e770bbdc7f785f27"
  },
  {
   "cell_type": "code",
   "execution_count": 23,
   "outputs": [
    {
     "name": "stdout",
     "output_type": "stream",
     "text": [
      "0.9871571362157141\n",
      "0.9887248804594789\n",
      "0.9872517072001918\n",
      "0.9885182949313777\n",
      "0.9871565213911233\n",
      "0.9884892187227401\n",
      "0.9875221871511294\n",
      "0.9890356506504738\n",
      "0.9877909222597776\n",
      "0.9892581458859827\n"
     ]
    }
   ],
   "source": [
    "kf = KFold(n_splits=5)\n",
    "algo = SVD()\n",
    "\n",
    "data = surprise_input\n",
    "\n",
    "for trainset, testset in kf.split(data):\n",
    "    algo.fit(trainset)\n",
    "    predictions = algo.test(testset)\n",
    "    precisions, recalls = precision_recall_at_k(predictions, k=5, threshold=4)\n",
    "\n",
    "    # Precision and recall can then be averaged over all users\n",
    "    print(sum(prec for prec in precisions.values()) / len(precisions))\n",
    "    print(sum(rec for rec in recalls.values()) / len(recalls))"
   ],
   "metadata": {
    "collapsed": false,
    "ExecuteTime": {
     "end_time": "2023-10-03T03:06:56.721206980Z",
     "start_time": "2023-10-03T03:06:31.961535347Z"
    }
   },
   "id": "2d9dfea3d0a23ce6"
  }
 ],
 "metadata": {
  "kernelspec": {
   "display_name": "Python 3",
   "language": "python",
   "name": "python3"
  },
  "language_info": {
   "codemirror_mode": {
    "name": "ipython",
    "version": 2
   },
   "file_extension": ".py",
   "mimetype": "text/x-python",
   "name": "python",
   "nbconvert_exporter": "python",
   "pygments_lexer": "ipython2",
   "version": "2.7.6"
  }
 },
 "nbformat": 4,
 "nbformat_minor": 5
}
