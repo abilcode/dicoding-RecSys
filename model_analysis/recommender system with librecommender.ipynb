{
 "cells": [
  {
   "cell_type": "code",
   "execution_count": 126,
   "id": "initial_id",
   "metadata": {
    "collapsed": true,
    "ExecuteTime": {
     "end_time": "2023-10-11T05:58:16.402008879Z",
     "start_time": "2023-10-11T05:58:16.345530189Z"
    }
   },
   "outputs": [],
   "source": [
    "import numpy as np\n",
    "import pandas as pd\n",
    "from libreco.data import random_split, DatasetPure\n",
    "from libreco.algorithms import NCF, WideDeep, DIN  # pure data, \n",
    "from libreco.evaluation import evaluate\n",
    "\n",
    "\n",
    "import tensorflow as tf"
   ]
  },
  {
   "cell_type": "code",
   "execution_count": 127,
   "outputs": [],
   "source": [
    "data = pd.read_parquet(\"../data/dicoding_user_item_rating.gzip\")\n",
    "data.rename(columns = \n",
    "    {\n",
    "        \"user_id\":\"user\",\n",
    "        \"course_id\":\"item\",\n",
    "        \"rating\":\"label\"\n",
    "    }, inplace= True\n",
    ") "
   ],
   "metadata": {
    "collapsed": false,
    "ExecuteTime": {
     "end_time": "2023-10-11T05:58:16.416586099Z",
     "start_time": "2023-10-11T05:58:16.396643981Z"
    }
   },
   "id": "6e718bbd53150224"
  },
  {
   "cell_type": "code",
   "execution_count": 128,
   "outputs": [
    {
     "data": {
      "text/plain": "           user  item        graduated_at  label\n0        623699    14 2020-03-10 11:45:50      5\n1        406371    14 2020-03-10 08:44:09      4\n2          1946    14 2020-03-11 13:24:10      5\n3        186713    14 2020-03-11 17:36:04      4\n4        462580    14 2020-03-11 08:43:36      4\n...         ...   ...                 ...    ...\n303951  3244648   615 2023-09-04 17:09:09      5\n303952  3258243   615 2023-09-04 19:12:11      5\n303953  3270793   615 2023-09-04 20:11:31      5\n303954  2547435   615 2023-09-04 20:38:22      5\n303955  1853832   615 2023-09-04 20:50:26      5\n\n[303956 rows x 4 columns]",
      "text/html": "<div>\n<style scoped>\n    .dataframe tbody tr th:only-of-type {\n        vertical-align: middle;\n    }\n\n    .dataframe tbody tr th {\n        vertical-align: top;\n    }\n\n    .dataframe thead th {\n        text-align: right;\n    }\n</style>\n<table border=\"1\" class=\"dataframe\">\n  <thead>\n    <tr style=\"text-align: right;\">\n      <th></th>\n      <th>user</th>\n      <th>item</th>\n      <th>graduated_at</th>\n      <th>label</th>\n    </tr>\n  </thead>\n  <tbody>\n    <tr>\n      <th>0</th>\n      <td>623699</td>\n      <td>14</td>\n      <td>2020-03-10 11:45:50</td>\n      <td>5</td>\n    </tr>\n    <tr>\n      <th>1</th>\n      <td>406371</td>\n      <td>14</td>\n      <td>2020-03-10 08:44:09</td>\n      <td>4</td>\n    </tr>\n    <tr>\n      <th>2</th>\n      <td>1946</td>\n      <td>14</td>\n      <td>2020-03-11 13:24:10</td>\n      <td>5</td>\n    </tr>\n    <tr>\n      <th>3</th>\n      <td>186713</td>\n      <td>14</td>\n      <td>2020-03-11 17:36:04</td>\n      <td>4</td>\n    </tr>\n    <tr>\n      <th>4</th>\n      <td>462580</td>\n      <td>14</td>\n      <td>2020-03-11 08:43:36</td>\n      <td>4</td>\n    </tr>\n    <tr>\n      <th>...</th>\n      <td>...</td>\n      <td>...</td>\n      <td>...</td>\n      <td>...</td>\n    </tr>\n    <tr>\n      <th>303951</th>\n      <td>3244648</td>\n      <td>615</td>\n      <td>2023-09-04 17:09:09</td>\n      <td>5</td>\n    </tr>\n    <tr>\n      <th>303952</th>\n      <td>3258243</td>\n      <td>615</td>\n      <td>2023-09-04 19:12:11</td>\n      <td>5</td>\n    </tr>\n    <tr>\n      <th>303953</th>\n      <td>3270793</td>\n      <td>615</td>\n      <td>2023-09-04 20:11:31</td>\n      <td>5</td>\n    </tr>\n    <tr>\n      <th>303954</th>\n      <td>2547435</td>\n      <td>615</td>\n      <td>2023-09-04 20:38:22</td>\n      <td>5</td>\n    </tr>\n    <tr>\n      <th>303955</th>\n      <td>1853832</td>\n      <td>615</td>\n      <td>2023-09-04 20:50:26</td>\n      <td>5</td>\n    </tr>\n  </tbody>\n</table>\n<p>303956 rows × 4 columns</p>\n</div>"
     },
     "execution_count": 128,
     "metadata": {},
     "output_type": "execute_result"
    }
   ],
   "source": [
    "data"
   ],
   "metadata": {
    "collapsed": false,
    "ExecuteTime": {
     "end_time": "2023-10-11T05:58:16.417372888Z",
     "start_time": "2023-10-11T05:58:16.396790Z"
    }
   },
   "id": "4c0a669d9192e46a"
  },
  {
   "cell_type": "code",
   "execution_count": 129,
   "outputs": [],
   "source": [
    "train_data, eval_data, test_data = random_split(data[[\n",
    "    \"user\", \"item\", \"label\"\n",
    "]], multi_ratios=[0.8, 0.1, 0.1])"
   ],
   "metadata": {
    "collapsed": false,
    "ExecuteTime": {
     "end_time": "2023-10-11T05:58:16.523399511Z",
     "start_time": "2023-10-11T05:58:16.396937972Z"
    }
   },
   "id": "d720b34618c5b2c2"
  },
  {
   "cell_type": "code",
   "execution_count": 130,
   "outputs": [],
   "source": [
    "# LibRecommender Datatype\n",
    "\n",
    "\n",
    "train_data, data_info= DatasetPure.build_trainset(train_data)\n",
    "eval_data = DatasetPure.build_evalset(eval_data)\n",
    "test_data = DatasetPure.build_testset(test_data)"
   ],
   "metadata": {
    "collapsed": false,
    "ExecuteTime": {
     "end_time": "2023-10-11T05:58:17.885773609Z",
     "start_time": "2023-10-11T05:58:16.514851781Z"
    }
   },
   "id": "5845792dc421596"
  },
  {
   "cell_type": "code",
   "execution_count": 131,
   "outputs": [],
   "source": [
    "### NCF\n",
    "\n",
    "\n",
    "ncf = NCF(\n",
    "    task=\"rating\",\n",
    "    data_info=data_info,\n",
    "    loss_type=\"cross_entropy\",\n",
    "    embed_size=16,\n",
    "    n_epochs=10,\n",
    "    lr=1e-3,\n",
    "    batch_size=2048,\n",
    "    num_neg=1,\n",
    "    \n",
    ")"
   ],
   "metadata": {
    "collapsed": false,
    "ExecuteTime": {
     "end_time": "2023-10-11T05:58:17.890829689Z",
     "start_time": "2023-10-11T05:58:17.889220129Z"
    }
   },
   "id": "759e0e5d4f1a35d9"
  },
  {
   "cell_type": "code",
   "execution_count": 132,
   "outputs": [
    {
     "name": "stdout",
     "output_type": "stream",
     "text": [
      "Training start time: \u001B[35m2023-10-11 12:58:17\u001B[0m\n"
     ]
    },
    {
     "ename": "ValueError",
     "evalue": "Variable embedding/user_embeds_var already exists, disallowed. Did you mean to set reuse=True or reuse=tf.AUTO_REUSE in VarScope? Originally defined at:\n\n  File \"/home/abilfad/miniconda3/envs/recommender-system/lib/python3.10/site-packages/libreco/layers/embedding.py\", line 17, in embedding_lookup\n    embed_var = tf.get_variable(\n  File \"/home/abilfad/miniconda3/envs/recommender-system/lib/python3.10/site-packages/libreco/algorithms/ncf.py\", line 121, in build_model\n    user_embeds = embedding_lookup(\n  File \"/home/abilfad/miniconda3/envs/recommender-system/lib/python3.10/site-packages/libreco/bases/tf_base.py\", line 128, in fit\n    self.build_model()\n  File \"/tmp/ipykernel_5170/3040933838.py\", line 3, in <module>\n    ncf.fit(\n  File \"/home/abilfad/miniconda3/envs/recommender-system/lib/python3.10/site-packages/IPython/core/interactiveshell.py\", line 3526, in run_code\n    exec(code_obj, self.user_global_ns, self.user_ns)\n",
     "output_type": "error",
     "traceback": [
      "\u001B[0;31m---------------------------------------------------------------------------\u001B[0m",
      "\u001B[0;31mValueError\u001B[0m                                Traceback (most recent call last)",
      "Cell \u001B[0;32mIn[132], line 1\u001B[0m\n\u001B[0;32m----> 1\u001B[0m \u001B[43mncf\u001B[49m\u001B[38;5;241;43m.\u001B[39;49m\u001B[43mfit\u001B[49m\u001B[43m(\u001B[49m\n\u001B[1;32m      2\u001B[0m \u001B[43m    \u001B[49m\u001B[43mtrain_data\u001B[49m\u001B[43m,\u001B[49m\n\u001B[1;32m      3\u001B[0m \u001B[43m    \u001B[49m\u001B[43mneg_sampling\u001B[49m\u001B[38;5;241;43m=\u001B[39;49m\u001B[38;5;28;43;01mFalse\u001B[39;49;00m\u001B[43m,\u001B[49m\u001B[43m \u001B[49m\u001B[38;5;66;43;03m#for rating, this param is false else True\u001B[39;49;00m\n\u001B[1;32m      4\u001B[0m \u001B[43m    \u001B[49m\u001B[43mverbose\u001B[49m\u001B[38;5;241;43m=\u001B[39;49m\u001B[38;5;241;43m0\u001B[39;49m\u001B[43m,\u001B[49m\n\u001B[1;32m      5\u001B[0m \u001B[43m    \u001B[49m\u001B[43meval_data\u001B[49m\u001B[38;5;241;43m=\u001B[39;49m\u001B[43meval_data\u001B[49m\u001B[43m,\u001B[49m\n\u001B[1;32m      6\u001B[0m \u001B[43m    \u001B[49m\u001B[43mmetrics\u001B[49m\u001B[38;5;241;43m=\u001B[39;49m\u001B[43m[\u001B[49m\u001B[38;5;124;43m\"\u001B[39;49m\u001B[38;5;124;43mloss\u001B[39;49m\u001B[38;5;124;43m\"\u001B[39;49m\u001B[43m]\u001B[49m\u001B[43m,\u001B[49m\n\u001B[1;32m      7\u001B[0m \u001B[43m    \u001B[49m\n\u001B[1;32m      8\u001B[0m \u001B[43m)\u001B[49m\n\u001B[1;32m     10\u001B[0m \u001B[38;5;66;03m# do final evaluation on test data\u001B[39;00m\n\u001B[1;32m     11\u001B[0m evaluate(\n\u001B[1;32m     12\u001B[0m     model\u001B[38;5;241m=\u001B[39mncf,\n\u001B[1;32m     13\u001B[0m     data\u001B[38;5;241m=\u001B[39mtest_data,\n\u001B[0;32m   (...)\u001B[0m\n\u001B[1;32m     16\u001B[0m \n\u001B[1;32m     17\u001B[0m )\n",
      "File \u001B[0;32m~/miniconda3/envs/recommender-system/lib/python3.10/site-packages/libreco/bases/tf_base.py:128\u001B[0m, in \u001B[0;36mTfBase.fit\u001B[0;34m(self, train_data, neg_sampling, verbose, shuffle, eval_data, metrics, k, eval_batch_size, eval_user_num, num_workers)\u001B[0m\n\u001B[1;32m    126\u001B[0m \u001B[38;5;28mself\u001B[39m\u001B[38;5;241m.\u001B[39mshow_start_time()\n\u001B[1;32m    127\u001B[0m \u001B[38;5;28;01mif\u001B[39;00m \u001B[38;5;129;01mnot\u001B[39;00m \u001B[38;5;28mself\u001B[39m\u001B[38;5;241m.\u001B[39mmodel_built:\n\u001B[0;32m--> 128\u001B[0m     \u001B[38;5;28;43mself\u001B[39;49m\u001B[38;5;241;43m.\u001B[39;49m\u001B[43mbuild_model\u001B[49m\u001B[43m(\u001B[49m\u001B[43m)\u001B[49m\n\u001B[1;32m    129\u001B[0m     \u001B[38;5;28mself\u001B[39m\u001B[38;5;241m.\u001B[39mmodel_built \u001B[38;5;241m=\u001B[39m \u001B[38;5;28;01mTrue\u001B[39;00m\n\u001B[1;32m    130\u001B[0m \u001B[38;5;28;01mif\u001B[39;00m \u001B[38;5;28mself\u001B[39m\u001B[38;5;241m.\u001B[39mtrainer \u001B[38;5;129;01mis\u001B[39;00m \u001B[38;5;28;01mNone\u001B[39;00m:\n",
      "File \u001B[0;32m~/miniconda3/envs/recommender-system/lib/python3.10/site-packages/libreco/algorithms/ncf.py:121\u001B[0m, in \u001B[0;36mNCF.build_model\u001B[0;34m(self)\u001B[0m\n\u001B[1;32m    118\u001B[0m \u001B[38;5;28mself\u001B[39m\u001B[38;5;241m.\u001B[39mlabels \u001B[38;5;241m=\u001B[39m tf\u001B[38;5;241m.\u001B[39mplaceholder(tf\u001B[38;5;241m.\u001B[39mfloat32, shape\u001B[38;5;241m=\u001B[39m[\u001B[38;5;28;01mNone\u001B[39;00m])\n\u001B[1;32m    119\u001B[0m \u001B[38;5;28mself\u001B[39m\u001B[38;5;241m.\u001B[39mis_training \u001B[38;5;241m=\u001B[39m tf\u001B[38;5;241m.\u001B[39mplaceholder_with_default(\u001B[38;5;28;01mFalse\u001B[39;00m, shape\u001B[38;5;241m=\u001B[39m[])\n\u001B[0;32m--> 121\u001B[0m user_embeds \u001B[38;5;241m=\u001B[39m \u001B[43membedding_lookup\u001B[49m\u001B[43m(\u001B[49m\n\u001B[1;32m    122\u001B[0m \u001B[43m    \u001B[49m\u001B[43mindices\u001B[49m\u001B[38;5;241;43m=\u001B[39;49m\u001B[38;5;28;43mself\u001B[39;49m\u001B[38;5;241;43m.\u001B[39;49m\u001B[43muser_indices\u001B[49m\u001B[43m,\u001B[49m\n\u001B[1;32m    123\u001B[0m \u001B[43m    \u001B[49m\u001B[43mvar_name\u001B[49m\u001B[38;5;241;43m=\u001B[39;49m\u001B[38;5;124;43m\"\u001B[39;49m\u001B[38;5;124;43muser_embeds_var\u001B[39;49m\u001B[38;5;124;43m\"\u001B[39;49m\u001B[43m,\u001B[49m\n\u001B[1;32m    124\u001B[0m \u001B[43m    \u001B[49m\u001B[43mvar_shape\u001B[49m\u001B[38;5;241;43m=\u001B[39;49m\u001B[43m(\u001B[49m\u001B[38;5;28;43mself\u001B[39;49m\u001B[38;5;241;43m.\u001B[39;49m\u001B[43mn_users\u001B[49m\u001B[43m \u001B[49m\u001B[38;5;241;43m+\u001B[39;49m\u001B[43m \u001B[49m\u001B[38;5;241;43m1\u001B[39;49m\u001B[43m,\u001B[49m\u001B[43m \u001B[49m\u001B[38;5;28;43mself\u001B[39;49m\u001B[38;5;241;43m.\u001B[39;49m\u001B[43membed_size\u001B[49m\u001B[43m)\u001B[49m\u001B[43m,\u001B[49m\n\u001B[1;32m    125\u001B[0m \u001B[43m    \u001B[49m\u001B[43minitializer\u001B[49m\u001B[38;5;241;43m=\u001B[39;49m\u001B[43mtf\u001B[49m\u001B[38;5;241;43m.\u001B[39;49m\u001B[43mglorot_uniform_initializer\u001B[49m\u001B[43m(\u001B[49m\u001B[43m)\u001B[49m\u001B[43m,\u001B[49m\n\u001B[1;32m    126\u001B[0m \u001B[43m    \u001B[49m\u001B[43mregularizer\u001B[49m\u001B[38;5;241;43m=\u001B[39;49m\u001B[38;5;28;43mself\u001B[39;49m\u001B[38;5;241;43m.\u001B[39;49m\u001B[43mreg\u001B[49m\u001B[43m,\u001B[49m\n\u001B[1;32m    127\u001B[0m \u001B[43m\u001B[49m\u001B[43m)\u001B[49m\n\u001B[1;32m    128\u001B[0m item_embeds \u001B[38;5;241m=\u001B[39m embedding_lookup(\n\u001B[1;32m    129\u001B[0m     indices\u001B[38;5;241m=\u001B[39m\u001B[38;5;28mself\u001B[39m\u001B[38;5;241m.\u001B[39mitem_indices,\n\u001B[1;32m    130\u001B[0m     var_name\u001B[38;5;241m=\u001B[39m\u001B[38;5;124m\"\u001B[39m\u001B[38;5;124mitem_embeds_var\u001B[39m\u001B[38;5;124m\"\u001B[39m,\n\u001B[0;32m   (...)\u001B[0m\n\u001B[1;32m    133\u001B[0m     regularizer\u001B[38;5;241m=\u001B[39m\u001B[38;5;28mself\u001B[39m\u001B[38;5;241m.\u001B[39mreg,\n\u001B[1;32m    134\u001B[0m )\n\u001B[1;32m    136\u001B[0m gmf_layer \u001B[38;5;241m=\u001B[39m tf\u001B[38;5;241m.\u001B[39mmultiply(user_embeds, item_embeds)\n",
      "File \u001B[0;32m~/miniconda3/envs/recommender-system/lib/python3.10/site-packages/libreco/layers/embedding.py:17\u001B[0m, in \u001B[0;36membedding_lookup\u001B[0;34m(indices, var_name, var_shape, initializer, regularizer, reuse_layer, embed_var, scope_name)\u001B[0m\n\u001B[1;32m     15\u001B[0m \u001B[38;5;28;01mwith\u001B[39;00m tf\u001B[38;5;241m.\u001B[39mvariable_scope(scope_name, reuse\u001B[38;5;241m=\u001B[39mreuse):\n\u001B[1;32m     16\u001B[0m     \u001B[38;5;28;01mif\u001B[39;00m embed_var \u001B[38;5;129;01mis\u001B[39;00m \u001B[38;5;28;01mNone\u001B[39;00m:\n\u001B[0;32m---> 17\u001B[0m         embed_var \u001B[38;5;241m=\u001B[39m \u001B[43mtf\u001B[49m\u001B[38;5;241;43m.\u001B[39;49m\u001B[43mget_variable\u001B[49m\u001B[43m(\u001B[49m\n\u001B[1;32m     18\u001B[0m \u001B[43m            \u001B[49m\u001B[43mname\u001B[49m\u001B[38;5;241;43m=\u001B[39;49m\u001B[43mvar_name\u001B[49m\u001B[43m,\u001B[49m\n\u001B[1;32m     19\u001B[0m \u001B[43m            \u001B[49m\u001B[43mshape\u001B[49m\u001B[38;5;241;43m=\u001B[39;49m\u001B[43mvar_shape\u001B[49m\u001B[43m,\u001B[49m\n\u001B[1;32m     20\u001B[0m \u001B[43m            \u001B[49m\u001B[43minitializer\u001B[49m\u001B[38;5;241;43m=\u001B[39;49m\u001B[43minitializer\u001B[49m\u001B[43m,\u001B[49m\n\u001B[1;32m     21\u001B[0m \u001B[43m            \u001B[49m\u001B[43mregularizer\u001B[49m\u001B[38;5;241;43m=\u001B[39;49m\u001B[43mregularizer\u001B[49m\u001B[43m,\u001B[49m\n\u001B[1;32m     22\u001B[0m \u001B[43m        \u001B[49m\u001B[43m)\u001B[49m\n\u001B[1;32m     23\u001B[0m     \u001B[38;5;28;01mreturn\u001B[39;00m tf\u001B[38;5;241m.\u001B[39mnn\u001B[38;5;241m.\u001B[39membedding_lookup(embed_var, indices)\n",
      "File \u001B[0;32m~/miniconda3/envs/recommender-system/lib/python3.10/site-packages/tensorflow/python/ops/variable_scope.py:1617\u001B[0m, in \u001B[0;36mget_variable\u001B[0;34m(name, shape, dtype, initializer, regularizer, trainable, collections, caching_device, partitioner, validate_shape, use_resource, custom_getter, constraint, synchronization, aggregation)\u001B[0m\n\u001B[1;32m   1601\u001B[0m \u001B[38;5;129m@tf_export\u001B[39m(v1\u001B[38;5;241m=\u001B[39m[\u001B[38;5;124m\"\u001B[39m\u001B[38;5;124mget_variable\u001B[39m\u001B[38;5;124m\"\u001B[39m])\n\u001B[1;32m   1602\u001B[0m \u001B[38;5;28;01mdef\u001B[39;00m \u001B[38;5;21mget_variable\u001B[39m(name,\n\u001B[1;32m   1603\u001B[0m                  shape\u001B[38;5;241m=\u001B[39m\u001B[38;5;28;01mNone\u001B[39;00m,\n\u001B[0;32m   (...)\u001B[0m\n\u001B[1;32m   1615\u001B[0m                  synchronization\u001B[38;5;241m=\u001B[39mVariableSynchronization\u001B[38;5;241m.\u001B[39mAUTO,\n\u001B[1;32m   1616\u001B[0m                  aggregation\u001B[38;5;241m=\u001B[39mVariableAggregation\u001B[38;5;241m.\u001B[39mNONE):\n\u001B[0;32m-> 1617\u001B[0m   \u001B[38;5;28;01mreturn\u001B[39;00m \u001B[43mget_variable_scope\u001B[49m\u001B[43m(\u001B[49m\u001B[43m)\u001B[49m\u001B[38;5;241;43m.\u001B[39;49m\u001B[43mget_variable\u001B[49m\u001B[43m(\u001B[49m\n\u001B[1;32m   1618\u001B[0m \u001B[43m      \u001B[49m\u001B[43m_get_default_variable_store\u001B[49m\u001B[43m(\u001B[49m\u001B[43m)\u001B[49m\u001B[43m,\u001B[49m\n\u001B[1;32m   1619\u001B[0m \u001B[43m      \u001B[49m\u001B[43mname\u001B[49m\u001B[43m,\u001B[49m\n\u001B[1;32m   1620\u001B[0m \u001B[43m      \u001B[49m\u001B[43mshape\u001B[49m\u001B[38;5;241;43m=\u001B[39;49m\u001B[43mshape\u001B[49m\u001B[43m,\u001B[49m\n\u001B[1;32m   1621\u001B[0m \u001B[43m      \u001B[49m\u001B[43mdtype\u001B[49m\u001B[38;5;241;43m=\u001B[39;49m\u001B[43mdtype\u001B[49m\u001B[43m,\u001B[49m\n\u001B[1;32m   1622\u001B[0m \u001B[43m      \u001B[49m\u001B[43minitializer\u001B[49m\u001B[38;5;241;43m=\u001B[39;49m\u001B[43minitializer\u001B[49m\u001B[43m,\u001B[49m\n\u001B[1;32m   1623\u001B[0m \u001B[43m      \u001B[49m\u001B[43mregularizer\u001B[49m\u001B[38;5;241;43m=\u001B[39;49m\u001B[43mregularizer\u001B[49m\u001B[43m,\u001B[49m\n\u001B[1;32m   1624\u001B[0m \u001B[43m      \u001B[49m\u001B[43mtrainable\u001B[49m\u001B[38;5;241;43m=\u001B[39;49m\u001B[43mtrainable\u001B[49m\u001B[43m,\u001B[49m\n\u001B[1;32m   1625\u001B[0m \u001B[43m      \u001B[49m\u001B[43mcollections\u001B[49m\u001B[38;5;241;43m=\u001B[39;49m\u001B[43mcollections\u001B[49m\u001B[43m,\u001B[49m\n\u001B[1;32m   1626\u001B[0m \u001B[43m      \u001B[49m\u001B[43mcaching_device\u001B[49m\u001B[38;5;241;43m=\u001B[39;49m\u001B[43mcaching_device\u001B[49m\u001B[43m,\u001B[49m\n\u001B[1;32m   1627\u001B[0m \u001B[43m      \u001B[49m\u001B[43mpartitioner\u001B[49m\u001B[38;5;241;43m=\u001B[39;49m\u001B[43mpartitioner\u001B[49m\u001B[43m,\u001B[49m\n\u001B[1;32m   1628\u001B[0m \u001B[43m      \u001B[49m\u001B[43mvalidate_shape\u001B[49m\u001B[38;5;241;43m=\u001B[39;49m\u001B[43mvalidate_shape\u001B[49m\u001B[43m,\u001B[49m\n\u001B[1;32m   1629\u001B[0m \u001B[43m      \u001B[49m\u001B[43muse_resource\u001B[49m\u001B[38;5;241;43m=\u001B[39;49m\u001B[43muse_resource\u001B[49m\u001B[43m,\u001B[49m\n\u001B[1;32m   1630\u001B[0m \u001B[43m      \u001B[49m\u001B[43mcustom_getter\u001B[49m\u001B[38;5;241;43m=\u001B[39;49m\u001B[43mcustom_getter\u001B[49m\u001B[43m,\u001B[49m\n\u001B[1;32m   1631\u001B[0m \u001B[43m      \u001B[49m\u001B[43mconstraint\u001B[49m\u001B[38;5;241;43m=\u001B[39;49m\u001B[43mconstraint\u001B[49m\u001B[43m,\u001B[49m\n\u001B[1;32m   1632\u001B[0m \u001B[43m      \u001B[49m\u001B[43msynchronization\u001B[49m\u001B[38;5;241;43m=\u001B[39;49m\u001B[43msynchronization\u001B[49m\u001B[43m,\u001B[49m\n\u001B[1;32m   1633\u001B[0m \u001B[43m      \u001B[49m\u001B[43maggregation\u001B[49m\u001B[38;5;241;43m=\u001B[39;49m\u001B[43maggregation\u001B[49m\u001B[43m)\u001B[49m\n",
      "File \u001B[0;32m~/miniconda3/envs/recommender-system/lib/python3.10/site-packages/tensorflow/python/ops/variable_scope.py:1327\u001B[0m, in \u001B[0;36mVariableScope.get_variable\u001B[0;34m(self, var_store, name, shape, dtype, initializer, regularizer, reuse, trainable, collections, caching_device, partitioner, validate_shape, use_resource, custom_getter, constraint, synchronization, aggregation)\u001B[0m\n\u001B[1;32m   1325\u001B[0m \u001B[38;5;28;01mif\u001B[39;00m dtype \u001B[38;5;129;01mis\u001B[39;00m \u001B[38;5;28;01mNone\u001B[39;00m:\n\u001B[1;32m   1326\u001B[0m   dtype \u001B[38;5;241m=\u001B[39m \u001B[38;5;28mself\u001B[39m\u001B[38;5;241m.\u001B[39m_dtype\n\u001B[0;32m-> 1327\u001B[0m \u001B[38;5;28;01mreturn\u001B[39;00m \u001B[43mvar_store\u001B[49m\u001B[38;5;241;43m.\u001B[39;49m\u001B[43mget_variable\u001B[49m\u001B[43m(\u001B[49m\n\u001B[1;32m   1328\u001B[0m \u001B[43m    \u001B[49m\u001B[43mfull_name\u001B[49m\u001B[43m,\u001B[49m\n\u001B[1;32m   1329\u001B[0m \u001B[43m    \u001B[49m\u001B[43mshape\u001B[49m\u001B[38;5;241;43m=\u001B[39;49m\u001B[43mshape\u001B[49m\u001B[43m,\u001B[49m\n\u001B[1;32m   1330\u001B[0m \u001B[43m    \u001B[49m\u001B[43mdtype\u001B[49m\u001B[38;5;241;43m=\u001B[39;49m\u001B[43mdtype\u001B[49m\u001B[43m,\u001B[49m\n\u001B[1;32m   1331\u001B[0m \u001B[43m    \u001B[49m\u001B[43minitializer\u001B[49m\u001B[38;5;241;43m=\u001B[39;49m\u001B[43minitializer\u001B[49m\u001B[43m,\u001B[49m\n\u001B[1;32m   1332\u001B[0m \u001B[43m    \u001B[49m\u001B[43mregularizer\u001B[49m\u001B[38;5;241;43m=\u001B[39;49m\u001B[43mregularizer\u001B[49m\u001B[43m,\u001B[49m\n\u001B[1;32m   1333\u001B[0m \u001B[43m    \u001B[49m\u001B[43mreuse\u001B[49m\u001B[38;5;241;43m=\u001B[39;49m\u001B[43mreuse\u001B[49m\u001B[43m,\u001B[49m\n\u001B[1;32m   1334\u001B[0m \u001B[43m    \u001B[49m\u001B[43mtrainable\u001B[49m\u001B[38;5;241;43m=\u001B[39;49m\u001B[43mtrainable\u001B[49m\u001B[43m,\u001B[49m\n\u001B[1;32m   1335\u001B[0m \u001B[43m    \u001B[49m\u001B[43mcollections\u001B[49m\u001B[38;5;241;43m=\u001B[39;49m\u001B[43mcollections\u001B[49m\u001B[43m,\u001B[49m\n\u001B[1;32m   1336\u001B[0m \u001B[43m    \u001B[49m\u001B[43mcaching_device\u001B[49m\u001B[38;5;241;43m=\u001B[39;49m\u001B[43mcaching_device\u001B[49m\u001B[43m,\u001B[49m\n\u001B[1;32m   1337\u001B[0m \u001B[43m    \u001B[49m\u001B[43mpartitioner\u001B[49m\u001B[38;5;241;43m=\u001B[39;49m\u001B[43mpartitioner\u001B[49m\u001B[43m,\u001B[49m\n\u001B[1;32m   1338\u001B[0m \u001B[43m    \u001B[49m\u001B[43mvalidate_shape\u001B[49m\u001B[38;5;241;43m=\u001B[39;49m\u001B[43mvalidate_shape\u001B[49m\u001B[43m,\u001B[49m\n\u001B[1;32m   1339\u001B[0m \u001B[43m    \u001B[49m\u001B[43muse_resource\u001B[49m\u001B[38;5;241;43m=\u001B[39;49m\u001B[43muse_resource\u001B[49m\u001B[43m,\u001B[49m\n\u001B[1;32m   1340\u001B[0m \u001B[43m    \u001B[49m\u001B[43mcustom_getter\u001B[49m\u001B[38;5;241;43m=\u001B[39;49m\u001B[43mcustom_getter\u001B[49m\u001B[43m,\u001B[49m\n\u001B[1;32m   1341\u001B[0m \u001B[43m    \u001B[49m\u001B[43mconstraint\u001B[49m\u001B[38;5;241;43m=\u001B[39;49m\u001B[43mconstraint\u001B[49m\u001B[43m,\u001B[49m\n\u001B[1;32m   1342\u001B[0m \u001B[43m    \u001B[49m\u001B[43msynchronization\u001B[49m\u001B[38;5;241;43m=\u001B[39;49m\u001B[43msynchronization\u001B[49m\u001B[43m,\u001B[49m\n\u001B[1;32m   1343\u001B[0m \u001B[43m    \u001B[49m\u001B[43maggregation\u001B[49m\u001B[38;5;241;43m=\u001B[39;49m\u001B[43maggregation\u001B[49m\u001B[43m)\u001B[49m\n",
      "File \u001B[0;32m~/miniconda3/envs/recommender-system/lib/python3.10/site-packages/tensorflow/python/ops/variable_scope.py:583\u001B[0m, in \u001B[0;36m_VariableStore.get_variable\u001B[0;34m(self, name, shape, dtype, initializer, regularizer, reuse, trainable, collections, caching_device, partitioner, validate_shape, use_resource, custom_getter, constraint, synchronization, aggregation)\u001B[0m\n\u001B[1;32m    581\u001B[0m   \u001B[38;5;28;01mreturn\u001B[39;00m custom_getter(\u001B[38;5;241m*\u001B[39m\u001B[38;5;241m*\u001B[39mcustom_getter_kwargs)\n\u001B[1;32m    582\u001B[0m \u001B[38;5;28;01melse\u001B[39;00m:\n\u001B[0;32m--> 583\u001B[0m   \u001B[38;5;28;01mreturn\u001B[39;00m \u001B[43m_true_getter\u001B[49m\u001B[43m(\u001B[49m\n\u001B[1;32m    584\u001B[0m \u001B[43m      \u001B[49m\u001B[43mname\u001B[49m\u001B[43m,\u001B[49m\n\u001B[1;32m    585\u001B[0m \u001B[43m      \u001B[49m\u001B[43mshape\u001B[49m\u001B[38;5;241;43m=\u001B[39;49m\u001B[43mshape\u001B[49m\u001B[43m,\u001B[49m\n\u001B[1;32m    586\u001B[0m \u001B[43m      \u001B[49m\u001B[43mdtype\u001B[49m\u001B[38;5;241;43m=\u001B[39;49m\u001B[43mdtype\u001B[49m\u001B[43m,\u001B[49m\n\u001B[1;32m    587\u001B[0m \u001B[43m      \u001B[49m\u001B[43minitializer\u001B[49m\u001B[38;5;241;43m=\u001B[39;49m\u001B[43minitializer\u001B[49m\u001B[43m,\u001B[49m\n\u001B[1;32m    588\u001B[0m \u001B[43m      \u001B[49m\u001B[43mregularizer\u001B[49m\u001B[38;5;241;43m=\u001B[39;49m\u001B[43mregularizer\u001B[49m\u001B[43m,\u001B[49m\n\u001B[1;32m    589\u001B[0m \u001B[43m      \u001B[49m\u001B[43mreuse\u001B[49m\u001B[38;5;241;43m=\u001B[39;49m\u001B[43mreuse\u001B[49m\u001B[43m,\u001B[49m\n\u001B[1;32m    590\u001B[0m \u001B[43m      \u001B[49m\u001B[43mtrainable\u001B[49m\u001B[38;5;241;43m=\u001B[39;49m\u001B[43mtrainable\u001B[49m\u001B[43m,\u001B[49m\n\u001B[1;32m    591\u001B[0m \u001B[43m      \u001B[49m\u001B[43mcollections\u001B[49m\u001B[38;5;241;43m=\u001B[39;49m\u001B[43mcollections\u001B[49m\u001B[43m,\u001B[49m\n\u001B[1;32m    592\u001B[0m \u001B[43m      \u001B[49m\u001B[43mcaching_device\u001B[49m\u001B[38;5;241;43m=\u001B[39;49m\u001B[43mcaching_device\u001B[49m\u001B[43m,\u001B[49m\n\u001B[1;32m    593\u001B[0m \u001B[43m      \u001B[49m\u001B[43mpartitioner\u001B[49m\u001B[38;5;241;43m=\u001B[39;49m\u001B[43mpartitioner\u001B[49m\u001B[43m,\u001B[49m\n\u001B[1;32m    594\u001B[0m \u001B[43m      \u001B[49m\u001B[43mvalidate_shape\u001B[49m\u001B[38;5;241;43m=\u001B[39;49m\u001B[43mvalidate_shape\u001B[49m\u001B[43m,\u001B[49m\n\u001B[1;32m    595\u001B[0m \u001B[43m      \u001B[49m\u001B[43muse_resource\u001B[49m\u001B[38;5;241;43m=\u001B[39;49m\u001B[43muse_resource\u001B[49m\u001B[43m,\u001B[49m\n\u001B[1;32m    596\u001B[0m \u001B[43m      \u001B[49m\u001B[43mconstraint\u001B[49m\u001B[38;5;241;43m=\u001B[39;49m\u001B[43mconstraint\u001B[49m\u001B[43m,\u001B[49m\n\u001B[1;32m    597\u001B[0m \u001B[43m      \u001B[49m\u001B[43msynchronization\u001B[49m\u001B[38;5;241;43m=\u001B[39;49m\u001B[43msynchronization\u001B[49m\u001B[43m,\u001B[49m\n\u001B[1;32m    598\u001B[0m \u001B[43m      \u001B[49m\u001B[43maggregation\u001B[49m\u001B[38;5;241;43m=\u001B[39;49m\u001B[43maggregation\u001B[49m\u001B[43m)\u001B[49m\n",
      "File \u001B[0;32m~/miniconda3/envs/recommender-system/lib/python3.10/site-packages/tensorflow/python/ops/variable_scope.py:536\u001B[0m, in \u001B[0;36m_VariableStore.get_variable.<locals>._true_getter\u001B[0;34m(name, shape, dtype, initializer, regularizer, reuse, trainable, collections, caching_device, partitioner, validate_shape, use_resource, constraint, synchronization, aggregation)\u001B[0m\n\u001B[1;32m    530\u001B[0m \u001B[38;5;28;01mif\u001B[39;00m \u001B[38;5;124m\"\u001B[39m\u001B[38;5;132;01m%s\u001B[39;00m\u001B[38;5;124m/part_0\u001B[39m\u001B[38;5;124m\"\u001B[39m \u001B[38;5;241m%\u001B[39m name \u001B[38;5;129;01min\u001B[39;00m \u001B[38;5;28mself\u001B[39m\u001B[38;5;241m.\u001B[39m_vars:\n\u001B[1;32m    531\u001B[0m   \u001B[38;5;28;01mraise\u001B[39;00m \u001B[38;5;167;01mValueError\u001B[39;00m(\n\u001B[1;32m    532\u001B[0m       \u001B[38;5;124m\"\u001B[39m\u001B[38;5;124mNo partitioner was provided, but a partitioned version of the \u001B[39m\u001B[38;5;124m\"\u001B[39m\n\u001B[1;32m    533\u001B[0m       \u001B[38;5;124m\"\u001B[39m\u001B[38;5;124mvariable was found: \u001B[39m\u001B[38;5;132;01m%s\u001B[39;00m\u001B[38;5;124m/part_0. Perhaps a variable of the same \u001B[39m\u001B[38;5;124m\"\u001B[39m\n\u001B[1;32m    534\u001B[0m       \u001B[38;5;124m\"\u001B[39m\u001B[38;5;124mname was already created with partitioning?\u001B[39m\u001B[38;5;124m\"\u001B[39m \u001B[38;5;241m%\u001B[39m name)\n\u001B[0;32m--> 536\u001B[0m \u001B[38;5;28;01mreturn\u001B[39;00m \u001B[38;5;28;43mself\u001B[39;49m\u001B[38;5;241;43m.\u001B[39;49m\u001B[43m_get_single_variable\u001B[49m\u001B[43m(\u001B[49m\n\u001B[1;32m    537\u001B[0m \u001B[43m    \u001B[49m\u001B[43mname\u001B[49m\u001B[38;5;241;43m=\u001B[39;49m\u001B[43mname\u001B[49m\u001B[43m,\u001B[49m\n\u001B[1;32m    538\u001B[0m \u001B[43m    \u001B[49m\u001B[43mshape\u001B[49m\u001B[38;5;241;43m=\u001B[39;49m\u001B[43mshape\u001B[49m\u001B[43m,\u001B[49m\n\u001B[1;32m    539\u001B[0m \u001B[43m    \u001B[49m\u001B[43mdtype\u001B[49m\u001B[38;5;241;43m=\u001B[39;49m\u001B[43mdtype\u001B[49m\u001B[43m,\u001B[49m\n\u001B[1;32m    540\u001B[0m \u001B[43m    \u001B[49m\u001B[43minitializer\u001B[49m\u001B[38;5;241;43m=\u001B[39;49m\u001B[43minitializer\u001B[49m\u001B[43m,\u001B[49m\n\u001B[1;32m    541\u001B[0m \u001B[43m    \u001B[49m\u001B[43mregularizer\u001B[49m\u001B[38;5;241;43m=\u001B[39;49m\u001B[43mregularizer\u001B[49m\u001B[43m,\u001B[49m\n\u001B[1;32m    542\u001B[0m \u001B[43m    \u001B[49m\u001B[43mreuse\u001B[49m\u001B[38;5;241;43m=\u001B[39;49m\u001B[43mreuse\u001B[49m\u001B[43m,\u001B[49m\n\u001B[1;32m    543\u001B[0m \u001B[43m    \u001B[49m\u001B[43mtrainable\u001B[49m\u001B[38;5;241;43m=\u001B[39;49m\u001B[43mtrainable\u001B[49m\u001B[43m,\u001B[49m\n\u001B[1;32m    544\u001B[0m \u001B[43m    \u001B[49m\u001B[43mcollections\u001B[49m\u001B[38;5;241;43m=\u001B[39;49m\u001B[43mcollections\u001B[49m\u001B[43m,\u001B[49m\n\u001B[1;32m    545\u001B[0m \u001B[43m    \u001B[49m\u001B[43mcaching_device\u001B[49m\u001B[38;5;241;43m=\u001B[39;49m\u001B[43mcaching_device\u001B[49m\u001B[43m,\u001B[49m\n\u001B[1;32m    546\u001B[0m \u001B[43m    \u001B[49m\u001B[43mvalidate_shape\u001B[49m\u001B[38;5;241;43m=\u001B[39;49m\u001B[43mvalidate_shape\u001B[49m\u001B[43m,\u001B[49m\n\u001B[1;32m    547\u001B[0m \u001B[43m    \u001B[49m\u001B[43muse_resource\u001B[49m\u001B[38;5;241;43m=\u001B[39;49m\u001B[43muse_resource\u001B[49m\u001B[43m,\u001B[49m\n\u001B[1;32m    548\u001B[0m \u001B[43m    \u001B[49m\u001B[43mconstraint\u001B[49m\u001B[38;5;241;43m=\u001B[39;49m\u001B[43mconstraint\u001B[49m\u001B[43m,\u001B[49m\n\u001B[1;32m    549\u001B[0m \u001B[43m    \u001B[49m\u001B[43msynchronization\u001B[49m\u001B[38;5;241;43m=\u001B[39;49m\u001B[43msynchronization\u001B[49m\u001B[43m,\u001B[49m\n\u001B[1;32m    550\u001B[0m \u001B[43m    \u001B[49m\u001B[43maggregation\u001B[49m\u001B[38;5;241;43m=\u001B[39;49m\u001B[43maggregation\u001B[49m\u001B[43m)\u001B[49m\n",
      "File \u001B[0;32m~/miniconda3/envs/recommender-system/lib/python3.10/site-packages/tensorflow/python/ops/variable_scope.py:899\u001B[0m, in \u001B[0;36m_VariableStore._get_single_variable\u001B[0;34m(self, name, shape, dtype, initializer, regularizer, partition_info, reuse, trainable, collections, caching_device, validate_shape, use_resource, constraint, synchronization, aggregation)\u001B[0m\n\u001B[1;32m    894\u001B[0m   \u001B[38;5;66;03m# Throw away internal tf entries and only take a few lines. In some\u001B[39;00m\n\u001B[1;32m    895\u001B[0m   \u001B[38;5;66;03m# cases the traceback can be longer (e.g. if someone uses factory\u001B[39;00m\n\u001B[1;32m    896\u001B[0m   \u001B[38;5;66;03m# functions to create variables) so we take more than needed in the\u001B[39;00m\n\u001B[1;32m    897\u001B[0m   \u001B[38;5;66;03m# default case.\u001B[39;00m\n\u001B[1;32m    898\u001B[0m   tb \u001B[38;5;241m=\u001B[39m [x \u001B[38;5;28;01mfor\u001B[39;00m x \u001B[38;5;129;01min\u001B[39;00m tb \u001B[38;5;28;01mif\u001B[39;00m \u001B[38;5;124m\"\u001B[39m\u001B[38;5;124mtensorflow/python\u001B[39m\u001B[38;5;124m\"\u001B[39m \u001B[38;5;129;01mnot\u001B[39;00m \u001B[38;5;129;01min\u001B[39;00m x[\u001B[38;5;241m0\u001B[39m]][:\u001B[38;5;241m5\u001B[39m]\n\u001B[0;32m--> 899\u001B[0m   \u001B[38;5;28;01mraise\u001B[39;00m \u001B[38;5;167;01mValueError\u001B[39;00m(\u001B[38;5;124m\"\u001B[39m\u001B[38;5;132;01m%s\u001B[39;00m\u001B[38;5;124m Originally defined at:\u001B[39m\u001B[38;5;130;01m\\n\u001B[39;00m\u001B[38;5;130;01m\\n\u001B[39;00m\u001B[38;5;132;01m%s\u001B[39;00m\u001B[38;5;124m\"\u001B[39m \u001B[38;5;241m%\u001B[39m\n\u001B[1;32m    900\u001B[0m                    (err_msg, \u001B[38;5;124m\"\u001B[39m\u001B[38;5;124m\"\u001B[39m\u001B[38;5;241m.\u001B[39mjoin(traceback\u001B[38;5;241m.\u001B[39mformat_list(tb))))\n\u001B[1;32m    901\u001B[0m found_var \u001B[38;5;241m=\u001B[39m \u001B[38;5;28mself\u001B[39m\u001B[38;5;241m.\u001B[39m_vars[name]\n\u001B[1;32m    902\u001B[0m \u001B[38;5;28;01mif\u001B[39;00m \u001B[38;5;129;01mnot\u001B[39;00m shape\u001B[38;5;241m.\u001B[39mis_compatible_with(found_var\u001B[38;5;241m.\u001B[39mget_shape()):\n",
      "\u001B[0;31mValueError\u001B[0m: Variable embedding/user_embeds_var already exists, disallowed. Did you mean to set reuse=True or reuse=tf.AUTO_REUSE in VarScope? Originally defined at:\n\n  File \"/home/abilfad/miniconda3/envs/recommender-system/lib/python3.10/site-packages/libreco/layers/embedding.py\", line 17, in embedding_lookup\n    embed_var = tf.get_variable(\n  File \"/home/abilfad/miniconda3/envs/recommender-system/lib/python3.10/site-packages/libreco/algorithms/ncf.py\", line 121, in build_model\n    user_embeds = embedding_lookup(\n  File \"/home/abilfad/miniconda3/envs/recommender-system/lib/python3.10/site-packages/libreco/bases/tf_base.py\", line 128, in fit\n    self.build_model()\n  File \"/tmp/ipykernel_5170/3040933838.py\", line 3, in <module>\n    ncf.fit(\n  File \"/home/abilfad/miniconda3/envs/recommender-system/lib/python3.10/site-packages/IPython/core/interactiveshell.py\", line 3526, in run_code\n    exec(code_obj, self.user_global_ns, self.user_ns)\n"
     ]
    }
   ],
   "source": [
    "ncf.fit(\n",
    "    train_data,\n",
    "    neg_sampling=False, #for rating, this param is false else True\n",
    "    verbose=0,\n",
    "    eval_data=eval_data,\n",
    "    metrics=[\"loss\"],\n",
    "    \n",
    ")\n",
    "\n",
    "# do final evaluation on test data\n",
    "evaluate(\n",
    "    model=ncf,\n",
    "    data=test_data,\n",
    "    neg_sampling=False,\n",
    "    metrics=[\"loss\"],\n",
    "\n",
    ")\n"
   ],
   "metadata": {
    "collapsed": false,
    "ExecuteTime": {
     "end_time": "2023-10-11T05:58:18.039264313Z",
     "start_time": "2023-10-11T05:58:17.893304073Z"
    }
   },
   "id": "77621b8ebe1303d9"
  },
  {
   "cell_type": "markdown",
   "source": [
    "# light gcn"
   ],
   "metadata": {
    "collapsed": false
   },
   "id": "501dc49a5362c8a"
  },
  {
   "cell_type": "code",
   "execution_count": null,
   "outputs": [],
   "source": [],
   "metadata": {
    "collapsed": false,
    "ExecuteTime": {
     "end_time": "2023-10-11T05:58:18.042694619Z",
     "start_time": "2023-10-11T05:58:18.039953349Z"
    }
   },
   "id": "4e3f005d10b0fd54"
  }
 ],
 "metadata": {
  "kernelspec": {
   "display_name": "Python 3",
   "language": "python",
   "name": "python3"
  },
  "language_info": {
   "codemirror_mode": {
    "name": "ipython",
    "version": 2
   },
   "file_extension": ".py",
   "mimetype": "text/x-python",
   "name": "python",
   "nbconvert_exporter": "python",
   "pygments_lexer": "ipython2",
   "version": "2.7.6"
  }
 },
 "nbformat": 4,
 "nbformat_minor": 5
}
