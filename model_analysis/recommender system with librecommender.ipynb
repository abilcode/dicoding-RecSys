{
 "cells": [
  {
   "cell_type": "code",
   "execution_count": 20,
   "id": "initial_id",
   "metadata": {
    "collapsed": true,
    "ExecuteTime": {
     "end_time": "2023-12-28T07:50:22.160710Z",
     "start_time": "2023-12-28T07:50:22.139219Z"
    }
   },
   "outputs": [
    {
     "name": "stdout",
     "output_type": "stream",
     "text": [
      "2.15.0\n"
     ]
    }
   ],
   "source": [
    "import pandas as pd\n",
    "from libreco.data import random_split, DatasetPure\n",
    "from libreco.algorithms import FM, DeepFM # pure data,\n",
    "from libreco.evaluation import evaluate\n",
    "\n",
    "\n",
    "import tensorflow as tf\n",
    "\n",
    "print(tf.__version__)"
   ]
  },
  {
   "cell_type": "code",
   "execution_count": 21,
   "outputs": [],
   "source": [
    "data = pd.read_parquet(\"../data/dicoding_user_item_rating.gzip\")\n",
    "data.rename(columns = \n",
    "    {\n",
    "        \"user_id\":\"user\",\n",
    "        \"course_id\":\"item\",\n",
    "        \"rating\":\"label\"\n",
    "    }, inplace= True\n",
    ") "
   ],
   "metadata": {
    "collapsed": false,
    "ExecuteTime": {
     "end_time": "2023-12-28T07:50:24.297331Z",
     "start_time": "2023-12-28T07:50:24.278367Z"
    }
   },
   "id": "6e718bbd53150224"
  },
  {
   "cell_type": "code",
   "execution_count": 35,
   "outputs": [
    {
     "data": {
      "text/plain": "           user  item        graduated_at  label\n0        623699    14 2020-03-10 11:45:50      5\n1        406371    14 2020-03-10 08:44:09      4\n2          1946    14 2020-03-11 13:24:10      5\n3        186713    14 2020-03-11 17:36:04      4\n4        462580    14 2020-03-11 08:43:36      4\n...         ...   ...                 ...    ...\n303951  3244648   615 2023-09-04 17:09:09      5\n303952  3258243   615 2023-09-04 19:12:11      5\n303953  3270793   615 2023-09-04 20:11:31      5\n303954  2547435   615 2023-09-04 20:38:22      5\n303955  1853832   615 2023-09-04 20:50:26      5\n\n[303956 rows x 4 columns]",
      "text/html": "<div>\n<style scoped>\n    .dataframe tbody tr th:only-of-type {\n        vertical-align: middle;\n    }\n\n    .dataframe tbody tr th {\n        vertical-align: top;\n    }\n\n    .dataframe thead th {\n        text-align: right;\n    }\n</style>\n<table border=\"1\" class=\"dataframe\">\n  <thead>\n    <tr style=\"text-align: right;\">\n      <th></th>\n      <th>user</th>\n      <th>item</th>\n      <th>graduated_at</th>\n      <th>label</th>\n    </tr>\n  </thead>\n  <tbody>\n    <tr>\n      <th>0</th>\n      <td>623699</td>\n      <td>14</td>\n      <td>2020-03-10 11:45:50</td>\n      <td>5</td>\n    </tr>\n    <tr>\n      <th>1</th>\n      <td>406371</td>\n      <td>14</td>\n      <td>2020-03-10 08:44:09</td>\n      <td>4</td>\n    </tr>\n    <tr>\n      <th>2</th>\n      <td>1946</td>\n      <td>14</td>\n      <td>2020-03-11 13:24:10</td>\n      <td>5</td>\n    </tr>\n    <tr>\n      <th>3</th>\n      <td>186713</td>\n      <td>14</td>\n      <td>2020-03-11 17:36:04</td>\n      <td>4</td>\n    </tr>\n    <tr>\n      <th>4</th>\n      <td>462580</td>\n      <td>14</td>\n      <td>2020-03-11 08:43:36</td>\n      <td>4</td>\n    </tr>\n    <tr>\n      <th>...</th>\n      <td>...</td>\n      <td>...</td>\n      <td>...</td>\n      <td>...</td>\n    </tr>\n    <tr>\n      <th>303951</th>\n      <td>3244648</td>\n      <td>615</td>\n      <td>2023-09-04 17:09:09</td>\n      <td>5</td>\n    </tr>\n    <tr>\n      <th>303952</th>\n      <td>3258243</td>\n      <td>615</td>\n      <td>2023-09-04 19:12:11</td>\n      <td>5</td>\n    </tr>\n    <tr>\n      <th>303953</th>\n      <td>3270793</td>\n      <td>615</td>\n      <td>2023-09-04 20:11:31</td>\n      <td>5</td>\n    </tr>\n    <tr>\n      <th>303954</th>\n      <td>2547435</td>\n      <td>615</td>\n      <td>2023-09-04 20:38:22</td>\n      <td>5</td>\n    </tr>\n    <tr>\n      <th>303955</th>\n      <td>1853832</td>\n      <td>615</td>\n      <td>2023-09-04 20:50:26</td>\n      <td>5</td>\n    </tr>\n  </tbody>\n</table>\n<p>303956 rows × 4 columns</p>\n</div>"
     },
     "execution_count": 35,
     "metadata": {},
     "output_type": "execute_result"
    }
   ],
   "source": [
    "data"
   ],
   "metadata": {
    "collapsed": false,
    "ExecuteTime": {
     "end_time": "2023-12-28T07:54:52.433632Z",
     "start_time": "2023-12-28T07:54:52.427989Z"
    }
   },
   "id": "4c0a669d9192e46a"
  },
  {
   "cell_type": "code",
   "execution_count": 23,
   "outputs": [],
   "source": [
    "train_data, eval_data, test_data = random_split(data[[\n",
    "    \"user\", \"item\", \"label\"\n",
    "]], multi_ratios=[0.8, 0.1, 0.1])"
   ],
   "metadata": {
    "collapsed": false,
    "ExecuteTime": {
     "end_time": "2023-12-28T07:50:26.691844Z",
     "start_time": "2023-12-28T07:50:26.625766Z"
    }
   },
   "id": "d720b34618c5b2c2"
  },
  {
   "cell_type": "code",
   "execution_count": 24,
   "outputs": [],
   "source": [
    "# LibRecommender Datatype\n",
    "\n",
    "train_data, data_info= DatasetPure.build_trainset(train_data)\n",
    "eval_data = DatasetPure.build_evalset(eval_data)\n",
    "test_data = DatasetPure.build_testset(test_data)"
   ],
   "metadata": {
    "collapsed": false,
    "ExecuteTime": {
     "end_time": "2023-12-28T07:50:28.025956Z",
     "start_time": "2023-12-28T07:50:27.308938Z"
    }
   },
   "id": "5845792dc421596"
  },
  {
   "cell_type": "markdown",
   "source": [
    "# Rating Task"
   ],
   "metadata": {
    "collapsed": false
   }
  },
  {
   "cell_type": "markdown",
   "source": [
    "## FM"
   ],
   "metadata": {
    "collapsed": false
   },
   "id": "f474bfd888b91baa"
  },
  {
   "cell_type": "code",
   "execution_count": 25,
   "outputs": [],
   "source": [
    "tf.compat.v1.reset_default_graph()\n",
    "\n",
    "fm = FM(\n",
    "    task=\"rating\",\n",
    "    data_info=data_info,\n",
    "    loss_type=\"cross_entropy\",\n",
    "    embed_size=16,\n",
    "    n_epochs=10,\n",
    "    lr=1e-3,\n",
    "    batch_size=2048,\n",
    "    num_neg=1,\n",
    ")"
   ],
   "metadata": {
    "collapsed": false,
    "ExecuteTime": {
     "end_time": "2023-12-28T07:50:31.756131Z",
     "start_time": "2023-12-28T07:50:31.747092Z"
    }
   },
   "id": "2a3794d1b6e17ddd"
  },
  {
   "cell_type": "code",
   "execution_count": 26,
   "outputs": [
    {
     "name": "stdout",
     "output_type": "stream",
     "text": [
      "Training start time: \u001B[35m2023-12-28 14:50:36\u001B[0m\n",
      "total params: \u001B[33m1,589,654\u001B[0m | embedding params: \u001B[33m1,589,604\u001B[0m | network params: \u001B[33m50\u001B[0m\n"
     ]
    },
    {
     "name": "stderr",
     "output_type": "stream",
     "text": [
      "/Users/abilfad/anaconda3/envs/dicoding-RecSys/lib/python3.10/site-packages/libreco/algorithms/fm.py:166: UserWarning: `tf.layers.batch_normalization` is deprecated and will be removed in a future version. Please use `tf.keras.layers.BatchNormalization` instead. In particular, `tf.control_dependencies(tf.GraphKeys.UPDATE_OPS)` should not be used (consult the `tf.keras.layers.BatchNormalization` documentation).\n",
      "  pairwise_term = tf.layers.batch_normalization(\n",
      "eval_pointwise: 100%|██████████| 4/4 [00:00<00:00, 584.88it/s]\n"
     ]
    },
    {
     "data": {
      "text/plain": "{'mae': 0.2733981, 'rmse': 0.41698718}"
     },
     "execution_count": 26,
     "metadata": {},
     "output_type": "execute_result"
    }
   ],
   "source": [
    "fm.fit(\n",
    "    train_data,\n",
    "    neg_sampling=False, #for rating, this param is false else True\n",
    "    verbose=0,\n",
    "    eval_data=eval_data,\n",
    "    metrics=[\"loss\"],\n",
    "    \n",
    ")\n",
    "\n",
    "# do final evaluation on test data\n",
    "evaluate(\n",
    "    model=fm,\n",
    "    data=test_data,\n",
    "    neg_sampling=False,\n",
    "    metrics=[\"mae\", \"rmse\"],\n",
    "\n",
    ")\n"
   ],
   "metadata": {
    "collapsed": false,
    "ExecuteTime": {
     "end_time": "2023-12-28T07:50:45.362626Z",
     "start_time": "2023-12-28T07:50:36.357055Z"
    }
   },
   "id": "127ce3eded05c02d"
  },
  {
   "cell_type": "markdown",
   "source": [
    "## DeepFM"
   ],
   "metadata": {
    "collapsed": false
   },
   "id": "501dc49a5362c8a"
  },
  {
   "cell_type": "code",
   "execution_count": 27,
   "outputs": [],
   "source": [
    "tf.compat.v1.reset_default_graph()\n",
    "\n",
    "deepfm = DeepFM(\n",
    "    task=\"rating\",\n",
    "    data_info=data_info,\n",
    "    loss_type=\"cross_entropy\",\n",
    "    embed_size=16,\n",
    "    n_epochs=10,\n",
    "    lr=1e-3,\n",
    "    batch_size=2048,\n",
    "    num_neg=1,\n",
    "    \n",
    ")\n"
   ],
   "metadata": {
    "collapsed": false,
    "ExecuteTime": {
     "end_time": "2023-12-28T07:50:45.366234Z",
     "start_time": "2023-12-28T07:50:45.363016Z"
    }
   },
   "id": "4e3f005d10b0fd54"
  },
  {
   "cell_type": "code",
   "execution_count": 30,
   "outputs": [
    {
     "name": "stdout",
     "output_type": "stream",
     "text": [
      "Training start time: \u001B[35m2023-12-28 14:51:41\u001B[0m\n"
     ]
    },
    {
     "name": "stderr",
     "output_type": "stream",
     "text": [
      "eval_pointwise: 100%|██████████| 4/4 [00:00<00:00, 253.08it/s]\n"
     ]
    },
    {
     "data": {
      "text/plain": "{'mae': 0.1981104, 'rmse': 0.3776615}"
     },
     "execution_count": 30,
     "metadata": {},
     "output_type": "execute_result"
    }
   ],
   "source": [
    "\n",
    "deepfm.fit(\n",
    "    train_data,\n",
    "    neg_sampling=False, #for rating, this param is false else True\n",
    "    verbose=0,\n",
    "    eval_data=eval_data,\n",
    "    metrics=[\"loss\"],\n",
    "    \n",
    ")\n",
    "\n",
    "# do final evaluation on test data\n",
    "evaluate(\n",
    "    model=deepfm,\n",
    "    data=test_data,\n",
    "    neg_sampling=False,\n",
    "    metrics=[\"mae\", \"rmse\"],\n",
    "\n",
    ")"
   ],
   "metadata": {
    "collapsed": false,
    "ExecuteTime": {
     "end_time": "2023-12-28T07:51:56.675475Z",
     "start_time": "2023-12-28T07:51:41.872659Z"
    }
   },
   "id": "62b83a98e8a0265f"
  },
  {
   "cell_type": "markdown",
   "source": [
    "# Ranking Task"
   ],
   "metadata": {
    "collapsed": false
   }
  },
  {
   "cell_type": "code",
   "execution_count": 44,
   "outputs": [],
   "source": [
    "data_ranking = data.copy()\n",
    "data_ranking.label = data_ranking.label.apply(lambda x: 0 if x < 4.5 else 1)"
   ],
   "metadata": {
    "collapsed": false,
    "ExecuteTime": {
     "end_time": "2023-12-28T07:56:25.349987Z",
     "start_time": "2023-12-28T07:56:25.275602Z"
    }
   }
  },
  {
   "cell_type": "code",
   "execution_count": 45,
   "outputs": [
    {
     "data": {
      "text/plain": "           user  item        graduated_at  label\n0        623699    14 2020-03-10 11:45:50      1\n1        406371    14 2020-03-10 08:44:09      0\n2          1946    14 2020-03-11 13:24:10      1\n3        186713    14 2020-03-11 17:36:04      0\n4        462580    14 2020-03-11 08:43:36      0\n...         ...   ...                 ...    ...\n303951  3244648   615 2023-09-04 17:09:09      1\n303952  3258243   615 2023-09-04 19:12:11      1\n303953  3270793   615 2023-09-04 20:11:31      1\n303954  2547435   615 2023-09-04 20:38:22      1\n303955  1853832   615 2023-09-04 20:50:26      1\n\n[303956 rows x 4 columns]",
      "text/html": "<div>\n<style scoped>\n    .dataframe tbody tr th:only-of-type {\n        vertical-align: middle;\n    }\n\n    .dataframe tbody tr th {\n        vertical-align: top;\n    }\n\n    .dataframe thead th {\n        text-align: right;\n    }\n</style>\n<table border=\"1\" class=\"dataframe\">\n  <thead>\n    <tr style=\"text-align: right;\">\n      <th></th>\n      <th>user</th>\n      <th>item</th>\n      <th>graduated_at</th>\n      <th>label</th>\n    </tr>\n  </thead>\n  <tbody>\n    <tr>\n      <th>0</th>\n      <td>623699</td>\n      <td>14</td>\n      <td>2020-03-10 11:45:50</td>\n      <td>1</td>\n    </tr>\n    <tr>\n      <th>1</th>\n      <td>406371</td>\n      <td>14</td>\n      <td>2020-03-10 08:44:09</td>\n      <td>0</td>\n    </tr>\n    <tr>\n      <th>2</th>\n      <td>1946</td>\n      <td>14</td>\n      <td>2020-03-11 13:24:10</td>\n      <td>1</td>\n    </tr>\n    <tr>\n      <th>3</th>\n      <td>186713</td>\n      <td>14</td>\n      <td>2020-03-11 17:36:04</td>\n      <td>0</td>\n    </tr>\n    <tr>\n      <th>4</th>\n      <td>462580</td>\n      <td>14</td>\n      <td>2020-03-11 08:43:36</td>\n      <td>0</td>\n    </tr>\n    <tr>\n      <th>...</th>\n      <td>...</td>\n      <td>...</td>\n      <td>...</td>\n      <td>...</td>\n    </tr>\n    <tr>\n      <th>303951</th>\n      <td>3244648</td>\n      <td>615</td>\n      <td>2023-09-04 17:09:09</td>\n      <td>1</td>\n    </tr>\n    <tr>\n      <th>303952</th>\n      <td>3258243</td>\n      <td>615</td>\n      <td>2023-09-04 19:12:11</td>\n      <td>1</td>\n    </tr>\n    <tr>\n      <th>303953</th>\n      <td>3270793</td>\n      <td>615</td>\n      <td>2023-09-04 20:11:31</td>\n      <td>1</td>\n    </tr>\n    <tr>\n      <th>303954</th>\n      <td>2547435</td>\n      <td>615</td>\n      <td>2023-09-04 20:38:22</td>\n      <td>1</td>\n    </tr>\n    <tr>\n      <th>303955</th>\n      <td>1853832</td>\n      <td>615</td>\n      <td>2023-09-04 20:50:26</td>\n      <td>1</td>\n    </tr>\n  </tbody>\n</table>\n<p>303956 rows × 4 columns</p>\n</div>"
     },
     "execution_count": 45,
     "metadata": {},
     "output_type": "execute_result"
    }
   ],
   "source": [
    "data_ranking"
   ],
   "metadata": {
    "collapsed": false,
    "ExecuteTime": {
     "end_time": "2023-12-28T07:56:26.736163Z",
     "start_time": "2023-12-28T07:56:26.728488Z"
    }
   }
  },
  {
   "cell_type": "code",
   "execution_count": 46,
   "outputs": [],
   "source": [
    "train_data, eval_data, test_data = random_split(data_ranking[[\n",
    "    \"user\", \"item\", \"label\"\n",
    "]], multi_ratios=[0.8, 0.1, 0.1])"
   ],
   "metadata": {
    "collapsed": false,
    "ExecuteTime": {
     "end_time": "2023-12-28T07:56:33.043899Z",
     "start_time": "2023-12-28T07:56:32.976673Z"
    }
   }
  },
  {
   "cell_type": "code",
   "execution_count": 47,
   "outputs": [],
   "source": [
    "# LibRecommender Datatype\n",
    "\n",
    "train_data, data_info= DatasetPure.build_trainset(train_data)\n",
    "eval_data = DatasetPure.build_evalset(eval_data)\n",
    "test_data = DatasetPure.build_testset(test_data)"
   ],
   "metadata": {
    "collapsed": false,
    "ExecuteTime": {
     "end_time": "2023-12-28T07:56:52.064924Z",
     "start_time": "2023-12-28T07:56:51.351330Z"
    }
   }
  },
  {
   "cell_type": "markdown",
   "source": [
    "## FM"
   ],
   "metadata": {
    "collapsed": false
   }
  },
  {
   "cell_type": "code",
   "execution_count": 61,
   "outputs": [],
   "source": [
    "tf.compat.v1.reset_default_graph()\n",
    "\n",
    "fm = FM(\n",
    "    task=\"ranking\",\n",
    "    data_info=data_info,\n",
    "    loss_type=\"cross_entropy\",\n",
    "    embed_size=64,\n",
    "    n_epochs=100,\n",
    "    lr=1e-3,\n",
    "    batch_size=2048,\n",
    "    num_neg=5,\n",
    ")"
   ],
   "metadata": {
    "collapsed": false,
    "ExecuteTime": {
     "end_time": "2023-12-28T08:41:05.476120Z",
     "start_time": "2023-12-28T08:41:05.467129Z"
    }
   },
   "id": "ee3e5b875bc0ca16"
  },
  {
   "cell_type": "code",
   "execution_count": 63,
   "outputs": [
    {
     "name": "stdout",
     "output_type": "stream",
     "text": [
      "Training start time: \u001B[35m2023-12-28 15:58:32\u001B[0m\n"
     ]
    },
    {
     "name": "stderr",
     "output_type": "stream",
     "text": [
      "eval_listwise: 100%|██████████| 135/135 [00:00<00:00, 149.61it/s]\n"
     ]
    },
    {
     "data": {
      "text/plain": "{'precision': 0.10340928657521667, 'recall': 0.8175449528947779}"
     },
     "execution_count": 63,
     "metadata": {},
     "output_type": "execute_result"
    }
   ],
   "source": [
    "fm.fit(\n",
    "    train_data,\n",
    "    neg_sampling=True, #for rating, this param is false else True\n",
    "    verbose=0,\n",
    "    eval_data=eval_data,\n",
    "    metrics=[\"loss\"],\n",
    "\n",
    ")\n",
    "\n",
    "# do final evaluation on test data\n",
    "evaluate(\n",
    "    model=fm,\n",
    "    data=test_data,\n",
    "    k=10,\n",
    "    neg_sampling=True,\n",
    "    metrics=[\"precision\", \"recall\"],\n",
    "\n",
    ")\n"
   ],
   "metadata": {
    "collapsed": false,
    "ExecuteTime": {
     "end_time": "2023-12-28T09:15:35.284287Z",
     "start_time": "2023-12-28T08:58:32.025413Z"
    }
   }
  },
  {
   "cell_type": "code",
   "execution_count": null,
   "outputs": [],
   "source": [],
   "metadata": {
    "collapsed": false
   }
  }
 ],
 "metadata": {
  "kernelspec": {
   "display_name": "Python 3",
   "language": "python",
   "name": "python3"
  },
  "language_info": {
   "codemirror_mode": {
    "name": "ipython",
    "version": 2
   },
   "file_extension": ".py",
   "mimetype": "text/x-python",
   "name": "python",
   "nbconvert_exporter": "python",
   "pygments_lexer": "ipython2",
   "version": "2.7.6"
  }
 },
 "nbformat": 4,
 "nbformat_minor": 5
}
