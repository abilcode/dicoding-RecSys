{
 "cells": [
  {
   "cell_type": "code",
   "execution_count": 51,
   "id": "initial_id",
   "metadata": {
    "collapsed": true,
    "ExecuteTime": {
     "end_time": "2023-09-27T08:55:52.958426047Z",
     "start_time": "2023-09-27T08:55:52.954233404Z"
    }
   },
   "outputs": [],
   "source": [
    "import os\n",
    "import pickle\n",
    "from pprint import pprint as pp\n",
    "from surprise import dump"
   ]
  },
  {
   "cell_type": "code",
   "execution_count": 52,
   "outputs": [],
   "source": [
    "def load_model(model_filename):\n",
    "    print (\">> Loading dump\")\n",
    "    from surprise import dump\n",
    "    import os\n",
    "    file_name = os.path.expanduser(model_filename)\n",
    "    _, loaded_model = dump.load(file_name)\n",
    "    print (\">> Loaded dump\")\n",
    "    return loaded_model"
   ],
   "metadata": {
    "collapsed": false,
    "ExecuteTime": {
     "end_time": "2023-09-27T08:55:53.189747495Z",
     "start_time": "2023-09-27T08:55:53.183601588Z"
    }
   },
   "id": "6fd673011bb6832f"
  },
  {
   "cell_type": "code",
   "execution_count": 53,
   "outputs": [
    {
     "name": "stdout",
     "output_type": "stream",
     "text": [
      ">> Loading dump\n",
      ">> Loaded dump\n",
      "<surprise.prediction_algorithms.matrix_factorization.SVD object at 0x7f7648466ec0>\n"
     ]
    },
    {
     "ename": "AttributeError",
     "evalue": "'SVD' object has no attribute 'trainset'",
     "output_type": "error",
     "traceback": [
      "\u001B[0;31m---------------------------------------------------------------------------\u001B[0m",
      "\u001B[0;31mAttributeError\u001B[0m                            Traceback (most recent call last)",
      "Cell \u001B[0;32mIn[53], line 26\u001B[0m\n\u001B[1;32m     24\u001B[0m     \u001B[38;5;28mprint\u001B[39m (\u001B[38;5;124m'\u001B[39m\u001B[38;5;130;01m\\n\u001B[39;00m\u001B[38;5;130;01m\\n\u001B[39;00m\u001B[38;5;124m'\u001B[39m)\n\u001B[1;32m     25\u001B[0m     \u001B[38;5;28;01mreturn\u001B[39;00m ret\n\u001B[0;32m---> 26\u001B[0m \u001B[38;5;28mprint\u001B[39m(\u001B[43mitemRating\u001B[49m\u001B[43m(\u001B[49m\u001B[43muser\u001B[49m\u001B[43m \u001B[49m\u001B[38;5;241;43m=\u001B[39;49m\u001B[43m \u001B[49m\u001B[38;5;124;43m\"\u001B[39;49m\u001B[38;5;124;43m610\u001B[39;49m\u001B[38;5;124;43m\"\u001B[39;49m\u001B[43m,\u001B[49m\u001B[43m \u001B[49m\u001B[43mitem\u001B[49m\u001B[43m \u001B[49m\u001B[38;5;241;43m=\u001B[39;49m\u001B[43m \u001B[49m\u001B[38;5;124;43m\"\u001B[39;49m\u001B[38;5;124;43m10\u001B[39;49m\u001B[38;5;124;43m\"\u001B[39;49m\u001B[43m)\u001B[49m)\n",
      "Cell \u001B[0;32mIn[53], line 8\u001B[0m, in \u001B[0;36mitemRating\u001B[0;34m(user, item)\u001B[0m\n\u001B[1;32m      6\u001B[0m loaded_model \u001B[38;5;241m=\u001B[39m load_model(model_filename)\n\u001B[1;32m      7\u001B[0m \u001B[38;5;28mprint\u001B[39m(loaded_model)\n\u001B[0;32m----> 8\u001B[0m prediction \u001B[38;5;241m=\u001B[39m \u001B[43mloaded_model\u001B[49m\u001B[38;5;241;43m.\u001B[39;49m\u001B[43mpredict\u001B[49m\u001B[43m(\u001B[49m\u001B[43muser\u001B[49m\u001B[43m,\u001B[49m\u001B[43m \u001B[49m\u001B[43mitem\u001B[49m\u001B[43m,\u001B[49m\u001B[43m \u001B[49m\u001B[43mverbose\u001B[49m\u001B[38;5;241;43m=\u001B[39;49m\u001B[38;5;28;43;01mTrue\u001B[39;49;00m\u001B[43m)\u001B[49m\n\u001B[1;32m      9\u001B[0m rating \u001B[38;5;241m=\u001B[39m prediction\u001B[38;5;241m.\u001B[39mest\n\u001B[1;32m     10\u001B[0m details \u001B[38;5;241m=\u001B[39m prediction\u001B[38;5;241m.\u001B[39mdetails\n",
      "File \u001B[0;32m~/miniconda3/envs/recommender-system/lib/python3.10/site-packages/surprise/prediction_algorithms/algo_base.py:92\u001B[0m, in \u001B[0;36mAlgoBase.predict\u001B[0;34m(self, uid, iid, r_ui, clip, verbose)\u001B[0m\n\u001B[1;32m     90\u001B[0m \u001B[38;5;66;03m# Convert raw ids to inner ids\u001B[39;00m\n\u001B[1;32m     91\u001B[0m \u001B[38;5;28;01mtry\u001B[39;00m:\n\u001B[0;32m---> 92\u001B[0m     iuid \u001B[38;5;241m=\u001B[39m \u001B[38;5;28;43mself\u001B[39;49m\u001B[38;5;241;43m.\u001B[39;49m\u001B[43mtrainset\u001B[49m\u001B[38;5;241m.\u001B[39mto_inner_uid(uid)\n\u001B[1;32m     93\u001B[0m \u001B[38;5;28;01mexcept\u001B[39;00m \u001B[38;5;167;01mValueError\u001B[39;00m:\n\u001B[1;32m     94\u001B[0m     iuid \u001B[38;5;241m=\u001B[39m \u001B[38;5;124m\"\u001B[39m\u001B[38;5;124mUKN__\u001B[39m\u001B[38;5;124m\"\u001B[39m \u001B[38;5;241m+\u001B[39m \u001B[38;5;28mstr\u001B[39m(uid)\n",
      "\u001B[0;31mAttributeError\u001B[0m: 'SVD' object has no attribute 'trainset'"
     ]
    }
   ],
   "source": [
    "from pprint import pprint as pp\n",
    "model_filename = \"../backend/model/model.pickle\"\n",
    "def itemRating(user, item):\n",
    "    uid = str(user)\n",
    "    iid = str(item) \n",
    "    loaded_model = load_model(model_filename)\n",
    "    print(loaded_model)\n",
    "    prediction = loaded_model.predict(user, item, verbose=True)\n",
    "    rating = prediction.est\n",
    "    details = prediction.details\n",
    "    uid = prediction.uid\n",
    "    iid = prediction.iid\n",
    "    true = prediction.r_ui\n",
    "    ret = {\n",
    "        'user': user, \n",
    "        'item': item, \n",
    "        'rating': rating, \n",
    "        'details': details,\n",
    "        'uid': uid,\n",
    "        'iid': iid,\n",
    "        'true': true\n",
    "        }\n",
    "    pp (ret)\n",
    "    print ('\\n\\n')\n",
    "    return ret\n",
    "print(itemRating(user = \"610\", item = \"10\"))"
   ],
   "metadata": {
    "collapsed": false,
    "ExecuteTime": {
     "end_time": "2023-09-27T08:55:53.723511065Z",
     "start_time": "2023-09-27T08:55:53.690636046Z"
    }
   },
   "id": "22203589f2f06be"
  },
  {
   "cell_type": "code",
   "execution_count": null,
   "outputs": [],
   "source": [],
   "metadata": {
    "collapsed": false
   },
   "id": "925f85cbe417009a"
  }
 ],
 "metadata": {
  "kernelspec": {
   "display_name": "Python 3",
   "language": "python",
   "name": "python3"
  },
  "language_info": {
   "codemirror_mode": {
    "name": "ipython",
    "version": 2
   },
   "file_extension": ".py",
   "mimetype": "text/x-python",
   "name": "python",
   "nbconvert_exporter": "python",
   "pygments_lexer": "ipython2",
   "version": "2.7.6"
  }
 },
 "nbformat": 4,
 "nbformat_minor": 5
}
