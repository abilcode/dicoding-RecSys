{
 "cells": [
  {
   "cell_type": "code",
   "execution_count": 1,
   "id": "initial_id",
   "metadata": {
    "collapsed": true,
    "ExecuteTime": {
     "end_time": "2023-10-03T02:16:16.380127320Z",
     "start_time": "2023-10-03T02:16:16.302909330Z"
    }
   },
   "outputs": [],
   "source": [
    "import os\n",
    "import pickle\n",
    "from pprint import pprint as pp\n",
    "from surprise import dump"
   ]
  },
  {
   "cell_type": "code",
   "execution_count": 2,
   "outputs": [],
   "source": [
    "def load_model(model_filename):\n",
    "    print (\">> Loading dump\")\n",
    "    from surprise import dump\n",
    "    import os\n",
    "    file_name = os.path.expanduser(model_filename)\n",
    "    _, loaded_model = dump.load(file_name)\n",
    "    print (\">> Loaded dump\")\n",
    "    return loaded_model"
   ],
   "metadata": {
    "collapsed": false,
    "ExecuteTime": {
     "end_time": "2023-10-03T02:16:16.388269564Z",
     "start_time": "2023-10-03T02:16:16.381539819Z"
    }
   },
   "id": "6fd673011bb6832f"
  },
  {
   "cell_type": "code",
   "execution_count": 3,
   "outputs": [
    {
     "name": "stdout",
     "output_type": "stream",
     "text": [
      ">> Loading dump\n",
      ">> Loaded dump\n",
      "<surprise.prediction_algorithms.matrix_factorization.SVDpp object at 0x7f593cc90280>\n",
      "user: 610        item: 10         r_ui = None   est = 4.87   {'was_impossible': False}\n",
      "{'details': {'was_impossible': False},\n",
      " 'iid': '10',\n",
      " 'item': '10',\n",
      " 'rating': 4.866062851202147,\n",
      " 'true': None,\n",
      " 'uid': '610',\n",
      " 'user': '610'}\n",
      "\n",
      "\n",
      "\n",
      "{'user': '610', 'item': '10', 'rating': 4.866062851202147, 'details': {'was_impossible': False}, 'uid': '610', 'iid': '10', 'true': None}\n"
     ]
    }
   ],
   "source": [
    "from pprint import pprint as pp\n",
    "model_filename = \"../backend/model/model.pickle\"\n",
    "def itemRating(user, item):\n",
    "    uid = str(user)\n",
    "    iid = str(item) \n",
    "    loaded_model = load_model(model_filename)\n",
    "    print(loaded_model)\n",
    "    prediction = loaded_model.predict(user, item, verbose=True)\n",
    "    rating = prediction.est\n",
    "    details = prediction.details\n",
    "    uid = prediction.uid\n",
    "    iid = prediction.iid\n",
    "    true = prediction.r_ui\n",
    "    ret = {\n",
    "        'user': user, \n",
    "        'item': item, \n",
    "        'rating': rating, \n",
    "        'details': details,\n",
    "        'uid': uid,\n",
    "        'iid': iid,\n",
    "        'true': true\n",
    "        }\n",
    "    pp (ret)\n",
    "    print ('\\n\\n')\n",
    "    return ret\n",
    "print(itemRating(user = \"610\", item = \"10\"))"
   ],
   "metadata": {
    "collapsed": false,
    "ExecuteTime": {
     "end_time": "2023-10-03T02:16:16.784341359Z",
     "start_time": "2023-10-03T02:16:16.387617309Z"
    }
   },
   "id": "22203589f2f06be"
  },
  {
   "cell_type": "code",
   "execution_count": 3,
   "outputs": [],
   "source": [],
   "metadata": {
    "collapsed": false,
    "ExecuteTime": {
     "end_time": "2023-10-03T02:16:16.790740530Z",
     "start_time": "2023-10-03T02:16:16.785307712Z"
    }
   },
   "id": "925f85cbe417009a"
  }
 ],
 "metadata": {
  "kernelspec": {
   "display_name": "Python 3",
   "language": "python",
   "name": "python3"
  },
  "language_info": {
   "codemirror_mode": {
    "name": "ipython",
    "version": 2
   },
   "file_extension": ".py",
   "mimetype": "text/x-python",
   "name": "python",
   "nbconvert_exporter": "python",
   "pygments_lexer": "ipython2",
   "version": "2.7.6"
  }
 },
 "nbformat": 4,
 "nbformat_minor": 5
}
